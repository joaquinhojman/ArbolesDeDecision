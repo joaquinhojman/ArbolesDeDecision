{
  "nbformat": 4,
  "nbformat_minor": 0,
  "metadata": {
    "colab": {
      "name": "ModeloLightGBM.ipynb",
      "provenance": [],
      "authorship_tag": "ABX9TyPm9Z3m3goDKvmzL0mBMsGR",
      "include_colab_link": true
    },
    "kernelspec": {
      "name": "python3",
      "display_name": "Python 3"
    }
  },
  "cells": [
    {
      "cell_type": "markdown",
      "metadata": {
        "id": "view-in-github",
        "colab_type": "text"
      },
      "source": [
        "<a href=\"https://colab.research.google.com/github/joaquinhojman/XGBoost/blob/main/ModeloLightGBM.ipynb\" target=\"_parent\"><img src=\"https://colab.research.google.com/assets/colab-badge.svg\" alt=\"Open In Colab\"/></a>"
      ]
    },
    {
      "cell_type": "code",
      "metadata": {
        "id": "hJXvYvkl9myi"
      },
      "source": [
        "\r\n",
        "import xgboost as xgb\r\n",
        "from sklearn.ensemble import RandomForestRegressor\r\n",
        "from sklearn.metrics import log_loss\r\n",
        "import pandas as pd\r\n",
        "import datetime as dt\r\n",
        "import numpy as np\r\n",
        "%matplotlib inline\r\n",
        "import matplotlib.pyplot as plt\r\n",
        "from sklearn import tree\r\n",
        "from sklearn.model_selection import train_test_split\r\n",
        "from sklearn.metrics import confusion_matrix\r\n",
        "from sklearn.metrics import accuracy_score\r\n",
        "from sklearn.metrics import classification_report\r\n",
        "from urllib.request import urlretrieve\r\n",
        "\r\n",
        "\r\n",
        "from sklearn.model_selection import train_test_split"
      ],
      "execution_count": 1,
      "outputs": []
    },
    {
      "cell_type": "code",
      "metadata": {
        "id": "DexFVsEP9sdR"
      },
      "source": [
        "url_train = 'https://raw.githubusercontent.com/SantiagoTadini/TP2-Datos/main/Features/data_train.csv'\r\n",
        "url_test = 'https://raw.githubusercontent.com/SantiagoTadini/TP2-Datos/main/Features/data_test.csv'\r\n",
        "url_test_kaggle = 'https://raw.githubusercontent.com/SantiagoTadini/TP2-Datos/main/Features/data_test_kaggle.csv'\r\n",
        "\r\n",
        "data_train = pd.read_csv(url_train)\r\n",
        "data_test = pd.read_csv(url_test)\r\n",
        "data_test_kaggle = pd.read_csv(url_test_kaggle)"
      ],
      "execution_count": 2,
      "outputs": []
    },
    {
      "cell_type": "code",
      "metadata": {
        "id": "kCv6xr519sfb"
      },
      "source": [
        "# Separamos los set de datos (data_train y data_test) de sus columnas 'Target'\r\n",
        "# 'x' son los datos, 'y' es el target:\r\n",
        "#   --> x_train son los datos con los que entrenar\r\n",
        "#   --> y_train son las soluciones con las que comparar lo entrenado con x_train\r\n",
        "#   --> x_test son los datos con los que probar\r\n",
        "#   --> y_test son las soluciones con las que comparar lo probado con x_test\r\n",
        "x_train = data_train.iloc[:, :-1]\r\n",
        "y_train = data_train.iloc[:, -1]\r\n",
        "x_test = data_test.iloc[:, :-1]\r\n",
        "y_test = data_test.iloc[:, -1]\r\n",
        "\r\n",
        "#Esto lo hizo chechu y esta bien, no cambiar.\r\n"
      ],
      "execution_count": 3,
      "outputs": []
    },
    {
      "cell_type": "code",
      "metadata": {
        "id": "fF9usWvO9shm"
      },
      "source": [
        "import lightgbm as lgb"
      ],
      "execution_count": 4,
      "outputs": []
    },
    {
      "cell_type": "code",
      "metadata": {
        "colab": {
          "base_uri": "https://localhost:8080/"
        },
        "id": "v7kt-M-F9sjw",
        "outputId": "1284bc5c-9dbb-4c87-b81f-348af96bfc28"
      },
      "source": [
        "lgb_train = lgb.Dataset(x_train, y_train)\r\n",
        "lgb_eval = lgb.Dataset(x_test, y_test, reference=lgb_train)\r\n",
        "\r\n",
        "params = {\r\n",
        "    'objective': 'regression',\r\n",
        "    'metric': 'rmse',\r\n",
        "    'num_leaves': 31,\r\n",
        "    'learning_rate': 0.05,\r\n",
        "    'feature_fraction': 0.9,\r\n",
        "}\r\n",
        "\r\n",
        "\r\n",
        "gbm = lgb.train(params,\r\n",
        "                lgb_train,\r\n",
        "                num_boost_round=100,\r\n",
        "                valid_sets=lgb_eval,\r\n",
        "                early_stopping_rounds=30)\r\n",
        "\r\n",
        "preds = gbm.predict(x_test, num_iteration=gbm.best_iteration)"
      ],
      "execution_count": 22,
      "outputs": [
        {
          "output_type": "stream",
          "text": [
            "[1]\tvalid_0's rmse: 0.481126\n",
            "Training until validation scores don't improve for 30 rounds.\n",
            "[2]\tvalid_0's rmse: 0.474066\n",
            "[3]\tvalid_0's rmse: 0.467647\n",
            "[4]\tvalid_0's rmse: 0.463281\n",
            "[5]\tvalid_0's rmse: 0.457879\n",
            "[6]\tvalid_0's rmse: 0.452737\n",
            "[7]\tvalid_0's rmse: 0.449159\n",
            "[8]\tvalid_0's rmse: 0.446275\n",
            "[9]\tvalid_0's rmse: 0.443847\n",
            "[10]\tvalid_0's rmse: 0.441798\n",
            "[11]\tvalid_0's rmse: 0.439895\n",
            "[12]\tvalid_0's rmse: 0.439078\n",
            "[13]\tvalid_0's rmse: 0.438123\n",
            "[14]\tvalid_0's rmse: 0.438135\n",
            "[15]\tvalid_0's rmse: 0.438181\n",
            "[16]\tvalid_0's rmse: 0.438015\n",
            "[17]\tvalid_0's rmse: 0.438002\n",
            "[18]\tvalid_0's rmse: 0.437777\n",
            "[19]\tvalid_0's rmse: 0.436957\n",
            "[20]\tvalid_0's rmse: 0.437372\n",
            "[21]\tvalid_0's rmse: 0.437444\n",
            "[22]\tvalid_0's rmse: 0.437435\n",
            "[23]\tvalid_0's rmse: 0.437852\n",
            "[24]\tvalid_0's rmse: 0.438961\n",
            "[25]\tvalid_0's rmse: 0.438708\n",
            "[26]\tvalid_0's rmse: 0.439167\n",
            "[27]\tvalid_0's rmse: 0.441459\n",
            "[28]\tvalid_0's rmse: 0.441013\n",
            "[29]\tvalid_0's rmse: 0.44104\n",
            "[30]\tvalid_0's rmse: 0.441315\n",
            "[31]\tvalid_0's rmse: 0.441935\n",
            "[32]\tvalid_0's rmse: 0.442426\n",
            "[33]\tvalid_0's rmse: 0.443025\n",
            "[34]\tvalid_0's rmse: 0.443853\n",
            "[35]\tvalid_0's rmse: 0.444363\n",
            "[36]\tvalid_0's rmse: 0.444399\n",
            "[37]\tvalid_0's rmse: 0.445604\n",
            "[38]\tvalid_0's rmse: 0.445601\n",
            "[39]\tvalid_0's rmse: 0.446205\n",
            "[40]\tvalid_0's rmse: 0.446964\n",
            "[41]\tvalid_0's rmse: 0.447875\n",
            "[42]\tvalid_0's rmse: 0.447972\n",
            "[43]\tvalid_0's rmse: 0.447684\n",
            "[44]\tvalid_0's rmse: 0.4486\n",
            "[45]\tvalid_0's rmse: 0.448037\n",
            "[46]\tvalid_0's rmse: 0.449233\n",
            "[47]\tvalid_0's rmse: 0.450544\n",
            "[48]\tvalid_0's rmse: 0.449755\n",
            "[49]\tvalid_0's rmse: 0.450168\n",
            "Early stopping, best iteration is:\n",
            "[19]\tvalid_0's rmse: 0.436957\n"
          ],
          "name": "stdout"
        }
      ]
    },
    {
      "cell_type": "code",
      "metadata": {
        "colab": {
          "base_uri": "https://localhost:8080/"
        },
        "id": "ln2eKPLu9518",
        "outputId": "915ee114-ecb6-4dbb-c36b-e03bd2bed227"
      },
      "source": [
        "\r\n",
        "error = log_loss(y_test, preds)\r\n",
        "error"
      ],
      "execution_count": 23,
      "outputs": [
        {
          "output_type": "execute_result",
          "data": {
            "text/plain": [
              "0.5689157527434481"
            ]
          },
          "metadata": {
            "tags": []
          },
          "execution_count": 23
        }
      ]
    },
    {
      "cell_type": "code",
      "metadata": {
        "id": "tLVwzqC9-F67"
      },
      "source": [
        ""
      ],
      "execution_count": null,
      "outputs": []
    },
    {
      "cell_type": "code",
      "metadata": {
        "id": "s7CbIPBJ-GAY"
      },
      "source": [
        ""
      ],
      "execution_count": null,
      "outputs": []
    },
    {
      "cell_type": "code",
      "metadata": {
        "id": "hSIFTuCR-GDG"
      },
      "source": [
        ""
      ],
      "execution_count": null,
      "outputs": []
    }
  ]
}