{
  "nbformat": 4,
  "nbformat_minor": 0,
  "metadata": {
    "colab": {
      "name": "ModeloLightGBM.ipynb",
      "provenance": [],
      "authorship_tag": "ABX9TyNHygJQX+NNDS0RgQkniZ5p",
      "include_colab_link": true
    },
    "kernelspec": {
      "name": "python3",
      "display_name": "Python 3"
    }
  },
  "cells": [
    {
      "cell_type": "markdown",
      "metadata": {
        "id": "view-in-github",
        "colab_type": "text"
      },
      "source": [
        "<a href=\"https://colab.research.google.com/github/joaquinhojman/ArbolesDeDecision/blob/main/ModeloLightGBM.ipynb\" target=\"_parent\"><img src=\"https://colab.research.google.com/assets/colab-badge.svg\" alt=\"Open In Colab\"/></a>"
      ]
    },
    {
      "cell_type": "code",
      "metadata": {
        "id": "hJXvYvkl9myi"
      },
      "source": [
        "\r\n",
        "import xgboost as xgb\r\n",
        "from sklearn.ensemble import RandomForestRegressor\r\n",
        "from sklearn.metrics import log_loss\r\n",
        "import pandas as pd\r\n",
        "import datetime as dt\r\n",
        "import numpy as np\r\n",
        "%matplotlib inline\r\n",
        "import matplotlib.pyplot as plt\r\n",
        "from sklearn import tree\r\n",
        "from sklearn.model_selection import train_test_split\r\n",
        "from sklearn.metrics import confusion_matrix\r\n",
        "from sklearn.metrics import accuracy_score\r\n",
        "from sklearn.metrics import classification_report\r\n",
        "from urllib.request import urlretrieve\r\n",
        "\r\n",
        "\r\n",
        "from sklearn.model_selection import train_test_split"
      ],
      "execution_count": null,
      "outputs": []
    },
    {
      "cell_type": "code",
      "metadata": {
        "id": "DexFVsEP9sdR"
      },
      "source": [
        "url_train = 'https://raw.githubusercontent.com/SantiagoTadini/TP2-Datos/main/Features/data_train.csv'\r\n",
        "url_test = 'https://raw.githubusercontent.com/SantiagoTadini/TP2-Datos/main/Features/data_test.csv'\r\n",
        "url_test_kaggle = 'https://raw.githubusercontent.com/SantiagoTadini/TP2-Datos/main/Features/data_test_kaggle.csv'\r\n",
        "\r\n",
        "data_train = pd.read_csv(url_train)\r\n",
        "data_test = pd.read_csv(url_test)\r\n",
        "data_test_kaggle = pd.read_csv(url_test_kaggle)"
      ],
      "execution_count": null,
      "outputs": []
    },
    {
      "cell_type": "code",
      "metadata": {
        "id": "kCv6xr519sfb"
      },
      "source": [
        "# Separamos los set de datos (data_train y data_test) de sus columnas 'Target'\r\n",
        "# 'x' son los datos, 'y' es el target:\r\n",
        "#   --> x_train son los datos con los que entrenar\r\n",
        "#   --> y_train son las soluciones con las que comparar lo entrenado con x_train\r\n",
        "#   --> x_test son los datos con los que probar\r\n",
        "#   --> y_test son las soluciones con las que comparar lo probado con x_test\r\n",
        "x_train = data_train.iloc[:, :-1]\r\n",
        "y_train = data_train.iloc[:, -1]\r\n",
        "x_test = data_test.iloc[:, :-1]\r\n",
        "y_test = data_test.iloc[:, -1]\r\n",
        "\r\n",
        "#Esto lo hizo chechu y esta bien, no cambiar.\r\n"
      ],
      "execution_count": null,
      "outputs": []
    },
    {
      "cell_type": "code",
      "metadata": {
        "id": "fF9usWvO9shm"
      },
      "source": [
        "import lightgbm as lgb"
      ],
      "execution_count": null,
      "outputs": []
    },
    {
      "cell_type": "code",
      "metadata": {
        "colab": {
          "base_uri": "https://localhost:8080/"
        },
        "id": "v7kt-M-F9sjw",
        "outputId": "b0f575ca-d23a-428b-ce8f-01b313d5990e"
      },
      "source": [
        "lgb_train = lgb.Dataset(x_train, y_train)\r\n",
        "lgb_eval = lgb.Dataset(x_test, y_test, reference=lgb_train)\r\n",
        "\r\n",
        "params = {\r\n",
        "    'objective': 'regression',\r\n",
        "    'metric': 'binary_logloss',              \r\n",
        "    'num_leaves': 62,\r\n",
        "    'learning_rate': 0.05,\r\n",
        "    'feature_fraction': 0.22,\r\n",
        "    'boosting': 'gbdt','min_samples_split':100\r\n",
        " } \r\n",
        "\r\n",
        "gbm = lgb.train(params,\r\n",
        "                lgb_train,\r\n",
        "                num_boost_round=100,\r\n",
        "                valid_sets=lgb_eval,\r\n",
        "                early_stopping_rounds=100)\r\n",
        "\r\n",
        "preds = gbm.predict(x_test, num_iteration=gbm.best_iteration)"
      ],
      "execution_count": null,
      "outputs": [
        {
          "output_type": "stream",
          "text": [
            "[1]\tvalid_0's binary_logloss: 0.665674\n",
            "Training until validation scores don't improve for 100 rounds.\n",
            "[2]\tvalid_0's binary_logloss: 0.649214\n",
            "[3]\tvalid_0's binary_logloss: 0.632452\n",
            "[4]\tvalid_0's binary_logloss: 0.6299\n",
            "[5]\tvalid_0's binary_logloss: 0.618848\n",
            "[6]\tvalid_0's binary_logloss: 0.617165\n",
            "[7]\tvalid_0's binary_logloss: 0.616189\n",
            "[8]\tvalid_0's binary_logloss: 0.603878\n",
            "[9]\tvalid_0's binary_logloss: 0.589202\n",
            "[10]\tvalid_0's binary_logloss: 0.583186\n",
            "[11]\tvalid_0's binary_logloss: 0.583538\n",
            "[12]\tvalid_0's binary_logloss: 0.573916\n",
            "[13]\tvalid_0's binary_logloss: 0.564314\n",
            "[14]\tvalid_0's binary_logloss: 0.561508\n",
            "[15]\tvalid_0's binary_logloss: 0.551687\n",
            "[16]\tvalid_0's binary_logloss: 0.546888\n",
            "[17]\tvalid_0's binary_logloss: 0.541927\n",
            "[18]\tvalid_0's binary_logloss: 0.539029\n",
            "[19]\tvalid_0's binary_logloss: 0.537532\n",
            "[20]\tvalid_0's binary_logloss: 0.53402\n",
            "[21]\tvalid_0's binary_logloss: 0.528736\n",
            "[22]\tvalid_0's binary_logloss: 0.527365\n",
            "[23]\tvalid_0's binary_logloss: 0.521714\n",
            "[24]\tvalid_0's binary_logloss: 0.522556\n",
            "[25]\tvalid_0's binary_logloss: 0.5165\n",
            "[26]\tvalid_0's binary_logloss: 0.512443\n",
            "[27]\tvalid_0's binary_logloss: 0.506632\n",
            "[28]\tvalid_0's binary_logloss: 0.502078\n",
            "[29]\tvalid_0's binary_logloss: 0.497178\n",
            "[30]\tvalid_0's binary_logloss: 0.495044\n",
            "[31]\tvalid_0's binary_logloss: 0.494083\n",
            "[32]\tvalid_0's binary_logloss: 0.493068\n",
            "[33]\tvalid_0's binary_logloss: 0.491408\n",
            "[34]\tvalid_0's binary_logloss: 0.487318\n",
            "[35]\tvalid_0's binary_logloss: 0.486489\n",
            "[36]\tvalid_0's binary_logloss: 0.482887\n",
            "[37]\tvalid_0's binary_logloss: 0.471954\n",
            "[38]\tvalid_0's binary_logloss: 0.471118\n",
            "[39]\tvalid_0's binary_logloss: 0.47224\n",
            "[40]\tvalid_0's binary_logloss: 0.471211\n",
            "[41]\tvalid_0's binary_logloss: 0.470432\n",
            "[42]\tvalid_0's binary_logloss: 0.468095\n",
            "[43]\tvalid_0's binary_logloss: 0.463851\n",
            "[44]\tvalid_0's binary_logloss: 0.459821\n",
            "[45]\tvalid_0's binary_logloss: 0.4567\n",
            "[46]\tvalid_0's binary_logloss: 0.453872\n",
            "[47]\tvalid_0's binary_logloss: 0.452945\n",
            "[48]\tvalid_0's binary_logloss: 0.45291\n",
            "[49]\tvalid_0's binary_logloss: 0.450394\n",
            "[50]\tvalid_0's binary_logloss: 0.44685\n",
            "[51]\tvalid_0's binary_logloss: 0.443373\n",
            "[52]\tvalid_0's binary_logloss: 0.443533\n",
            "[53]\tvalid_0's binary_logloss: 0.443119\n",
            "[54]\tvalid_0's binary_logloss: 0.441982\n",
            "[55]\tvalid_0's binary_logloss: 0.442305\n",
            "[56]\tvalid_0's binary_logloss: 0.441087\n",
            "[57]\tvalid_0's binary_logloss: 0.439731\n",
            "[58]\tvalid_0's binary_logloss: 0.438778\n",
            "[59]\tvalid_0's binary_logloss: 0.439171\n",
            "[60]\tvalid_0's binary_logloss: 0.437768\n",
            "[61]\tvalid_0's binary_logloss: 0.437761\n",
            "[62]\tvalid_0's binary_logloss: 0.436486\n",
            "[63]\tvalid_0's binary_logloss: 0.435909\n",
            "[64]\tvalid_0's binary_logloss: 0.434842\n",
            "[65]\tvalid_0's binary_logloss: 0.43462\n",
            "[66]\tvalid_0's binary_logloss: 0.431698\n",
            "[67]\tvalid_0's binary_logloss: 0.43184\n",
            "[68]\tvalid_0's binary_logloss: 0.431744\n",
            "[69]\tvalid_0's binary_logloss: 0.430846\n",
            "[70]\tvalid_0's binary_logloss: 0.43839\n",
            "[71]\tvalid_0's binary_logloss: 0.428955\n",
            "[72]\tvalid_0's binary_logloss: 0.435725\n",
            "[73]\tvalid_0's binary_logloss: 0.427769\n",
            "[74]\tvalid_0's binary_logloss: 0.435896\n",
            "[75]\tvalid_0's binary_logloss: 0.436636\n",
            "[76]\tvalid_0's binary_logloss: 0.436214\n",
            "[77]\tvalid_0's binary_logloss: 0.436401\n",
            "[78]\tvalid_0's binary_logloss: 0.433447\n",
            "[79]\tvalid_0's binary_logloss: 0.433362\n",
            "[80]\tvalid_0's binary_logloss: 0.433973\n",
            "[81]\tvalid_0's binary_logloss: 0.433725\n",
            "[82]\tvalid_0's binary_logloss: 0.433783\n",
            "[83]\tvalid_0's binary_logloss: 0.434004\n",
            "[84]\tvalid_0's binary_logloss: 0.434392\n",
            "[85]\tvalid_0's binary_logloss: 0.434475\n",
            "[86]\tvalid_0's binary_logloss: 0.44194\n",
            "[87]\tvalid_0's binary_logloss: 0.442287\n",
            "[88]\tvalid_0's binary_logloss: 0.442051\n",
            "[89]\tvalid_0's binary_logloss: 0.440132\n",
            "[90]\tvalid_0's binary_logloss: 0.437771\n",
            "[91]\tvalid_0's binary_logloss: 0.438368\n",
            "[92]\tvalid_0's binary_logloss: 0.438827\n",
            "[93]\tvalid_0's binary_logloss: 0.438877\n",
            "[94]\tvalid_0's binary_logloss: 0.43488\n",
            "[95]\tvalid_0's binary_logloss: 0.433558\n",
            "[96]\tvalid_0's binary_logloss: 0.431786\n",
            "[97]\tvalid_0's binary_logloss: 0.431628\n",
            "[98]\tvalid_0's binary_logloss: 0.439677\n",
            "[99]\tvalid_0's binary_logloss: 0.452529\n",
            "[100]\tvalid_0's binary_logloss: 0.452567\n",
            "Did not meet early stopping. Best iteration is:\n",
            "[73]\tvalid_0's binary_logloss: 0.427769\n"
          ],
          "name": "stdout"
        }
      ]
    },
    {
      "cell_type": "code",
      "metadata": {
        "colab": {
          "base_uri": "https://localhost:8080/"
        },
        "id": "ln2eKPLu9518",
        "outputId": "39dadab6-8233-4ba7-d369-2955c95c58bd"
      },
      "source": [
        "\r\n",
        "error = log_loss(y_test, preds)\r\n",
        "error"
      ],
      "execution_count": null,
      "outputs": [
        {
          "output_type": "execute_result",
          "data": {
            "text/plain": [
              "0.4283481286477098"
            ]
          },
          "metadata": {
            "tags": []
          },
          "execution_count": 6
        }
      ]
    },
    {
      "cell_type": "code",
      "metadata": {
        "id": "tLVwzqC9-F67"
      },
      "source": [
        ""
      ],
      "execution_count": null,
      "outputs": []
    },
    {
      "cell_type": "code",
      "metadata": {
        "id": "TSTQvmjSN1xW"
      },
      "source": [
        "# Sacamos el y_test_de_practica_agrupado_por_opp\r\n",
        "oportunidades_test_de_practica = x_test['Opportunity_ID']\r\n",
        "oportunidades_test_de_practica = oportunidades_test_de_practica.to_frame()\r\n",
        "\r\n",
        "stage_test_de_practica = y_test.to_frame()\r\n",
        "\r\n",
        "oportunidades_test_de_practica['Target'] = stage_test_de_practica\r\n",
        "y_test_agrupado_por_opp = oportunidades_test_de_practica.groupby('Opportunity_ID').agg({'Target' : 'mean'})\r\n",
        "y_test_agrupado_por_opp = y_test_agrupado_por_opp.reset_index()"
      ],
      "execution_count": null,
      "outputs": []
    },
    {
      "cell_type": "code",
      "metadata": {
        "id": "bJUEgnFPN9ZC"
      },
      "source": [
        "# Sacamos el preds_agrupado_por_opp\r\n",
        "oportunidades_test_de_practica = x_test['Opportunity_ID']\r\n",
        "oportunidades_test_de_practica = oportunidades_test_de_practica.to_frame()\r\n",
        "\r\n",
        "oportunidades_test_de_practica['Target'] = preds\r\n",
        "\r\n",
        "preds_agrupado_por_opp = oportunidades_test_de_practica.groupby('Opportunity_ID').agg({'Target' : 'mean'})\r\n",
        "preds_agrupado_por_opp = preds_agrupado_por_opp.reset_index()"
      ],
      "execution_count": null,
      "outputs": []
    },
    {
      "cell_type": "code",
      "metadata": {
        "colab": {
          "base_uri": "https://localhost:8080/"
        },
        "id": "2w2f41zwOCe_",
        "outputId": "deb863b7-789d-484b-c4e8-71931fa849d0"
      },
      "source": [
        "# Calculamos el error con groupby hecho\r\n",
        "error = log_loss(y_test_agrupado_por_opp['Target'], np.nan_to_num(preds_agrupado_por_opp['Target'].to_numpy()))\r\n",
        "error"
      ],
      "execution_count": null,
      "outputs": [
        {
          "output_type": "execute_result",
          "data": {
            "text/plain": [
              "0.43503971316847356"
            ]
          },
          "metadata": {
            "tags": []
          },
          "execution_count": 9
        }
      ]
    },
    {
      "cell_type": "code",
      "metadata": {
        "colab": {
          "base_uri": "https://localhost:8080/",
          "height": 407
        },
        "id": "Tj35eMc4OIZO",
        "outputId": "405ebefd-94a8-40bb-fc67-2ebf1cda7f14"
      },
      "source": [
        "# Sacamos el preds_test_agrupado_por_opp\r\n",
        "preds_test_kaggle = gbm.predict(data_test_kaggle)\r\n",
        "\r\n",
        "oportunidades_test = data_test_kaggle['Opportunity_ID']\r\n",
        "oportunidades_test = oportunidades_test.to_frame()\r\n",
        "\r\n",
        "oportunidades_test['Target'] = preds_test_kaggle\r\n",
        "\r\n",
        "preds_test_kaggle_agrupado_por_opp = oportunidades_test.groupby('Opportunity_ID').agg({'Target' : 'mean'})\r\n",
        "preds_test_kaggle_agrupado_por_opp = preds_test_kaggle_agrupado_por_opp.reset_index()\r\n",
        "\r\n",
        "preds_test_kaggle_agrupado_por_opp"
      ],
      "execution_count": null,
      "outputs": [
        {
          "output_type": "execute_result",
          "data": {
            "text/html": [
              "<div>\n",
              "<style scoped>\n",
              "    .dataframe tbody tr th:only-of-type {\n",
              "        vertical-align: middle;\n",
              "    }\n",
              "\n",
              "    .dataframe tbody tr th {\n",
              "        vertical-align: top;\n",
              "    }\n",
              "\n",
              "    .dataframe thead th {\n",
              "        text-align: right;\n",
              "    }\n",
              "</style>\n",
              "<table border=\"1\" class=\"dataframe\">\n",
              "  <thead>\n",
              "    <tr style=\"text-align: right;\">\n",
              "      <th></th>\n",
              "      <th>Opportunity_ID</th>\n",
              "      <th>Target</th>\n",
              "    </tr>\n",
              "  </thead>\n",
              "  <tbody>\n",
              "    <tr>\n",
              "      <th>0</th>\n",
              "      <td>10689.0</td>\n",
              "      <td>0.614775</td>\n",
              "    </tr>\n",
              "    <tr>\n",
              "      <th>1</th>\n",
              "      <td>10690.0</td>\n",
              "      <td>0.527273</td>\n",
              "    </tr>\n",
              "    <tr>\n",
              "      <th>2</th>\n",
              "      <td>10691.0</td>\n",
              "      <td>0.383132</td>\n",
              "    </tr>\n",
              "    <tr>\n",
              "      <th>3</th>\n",
              "      <td>10692.0</td>\n",
              "      <td>0.519192</td>\n",
              "    </tr>\n",
              "    <tr>\n",
              "      <th>4</th>\n",
              "      <td>10693.0</td>\n",
              "      <td>0.649120</td>\n",
              "    </tr>\n",
              "    <tr>\n",
              "      <th>...</th>\n",
              "      <td>...</td>\n",
              "      <td>...</td>\n",
              "    </tr>\n",
              "    <tr>\n",
              "      <th>1562</th>\n",
              "      <td>12364.0</td>\n",
              "      <td>0.571441</td>\n",
              "    </tr>\n",
              "    <tr>\n",
              "      <th>1563</th>\n",
              "      <td>12365.0</td>\n",
              "      <td>0.320641</td>\n",
              "    </tr>\n",
              "    <tr>\n",
              "      <th>1564</th>\n",
              "      <td>12366.0</td>\n",
              "      <td>0.244239</td>\n",
              "    </tr>\n",
              "    <tr>\n",
              "      <th>1565</th>\n",
              "      <td>12367.0</td>\n",
              "      <td>0.406347</td>\n",
              "    </tr>\n",
              "    <tr>\n",
              "      <th>1566</th>\n",
              "      <td>12368.0</td>\n",
              "      <td>0.372954</td>\n",
              "    </tr>\n",
              "  </tbody>\n",
              "</table>\n",
              "<p>1567 rows × 2 columns</p>\n",
              "</div>"
            ],
            "text/plain": [
              "      Opportunity_ID    Target\n",
              "0            10689.0  0.614775\n",
              "1            10690.0  0.527273\n",
              "2            10691.0  0.383132\n",
              "3            10692.0  0.519192\n",
              "4            10693.0  0.649120\n",
              "...              ...       ...\n",
              "1562         12364.0  0.571441\n",
              "1563         12365.0  0.320641\n",
              "1564         12366.0  0.244239\n",
              "1565         12367.0  0.406347\n",
              "1566         12368.0  0.372954\n",
              "\n",
              "[1567 rows x 2 columns]"
            ]
          },
          "metadata": {
            "tags": []
          },
          "execution_count": 10
        }
      ]
    },
    {
      "cell_type": "code",
      "metadata": {
        "colab": {
          "base_uri": "https://localhost:8080/",
          "height": 17
        },
        "id": "jI7RZf_oON8L",
        "outputId": "5cf15316-0f93-4be5-b97b-f5b7a3d4afa3"
      },
      "source": [
        "from google.colab import files\r\n",
        "\r\n",
        "preds_test_kaggle_agrupado_por_opp.to_csv('preds_testlgbm.csv', index=False, header=True)\r\n",
        "files.download('preds_testlgbm.csv')"
      ],
      "execution_count": null,
      "outputs": [
        {
          "output_type": "display_data",
          "data": {
            "application/javascript": [
              "\n",
              "    async function download(id, filename, size) {\n",
              "      if (!google.colab.kernel.accessAllowed) {\n",
              "        return;\n",
              "      }\n",
              "      const div = document.createElement('div');\n",
              "      const label = document.createElement('label');\n",
              "      label.textContent = `Downloading \"${filename}\": `;\n",
              "      div.appendChild(label);\n",
              "      const progress = document.createElement('progress');\n",
              "      progress.max = size;\n",
              "      div.appendChild(progress);\n",
              "      document.body.appendChild(div);\n",
              "\n",
              "      const buffers = [];\n",
              "      let downloaded = 0;\n",
              "\n",
              "      const channel = await google.colab.kernel.comms.open(id);\n",
              "      // Send a message to notify the kernel that we're ready.\n",
              "      channel.send({})\n",
              "\n",
              "      for await (const message of channel.messages) {\n",
              "        // Send a message to notify the kernel that we're ready.\n",
              "        channel.send({})\n",
              "        if (message.buffers) {\n",
              "          for (const buffer of message.buffers) {\n",
              "            buffers.push(buffer);\n",
              "            downloaded += buffer.byteLength;\n",
              "            progress.value = downloaded;\n",
              "          }\n",
              "        }\n",
              "      }\n",
              "      const blob = new Blob(buffers, {type: 'application/binary'});\n",
              "      const a = document.createElement('a');\n",
              "      a.href = window.URL.createObjectURL(blob);\n",
              "      a.download = filename;\n",
              "      div.appendChild(a);\n",
              "      a.click();\n",
              "      div.remove();\n",
              "    }\n",
              "  "
            ],
            "text/plain": [
              "<IPython.core.display.Javascript object>"
            ]
          },
          "metadata": {
            "tags": []
          }
        },
        {
          "output_type": "display_data",
          "data": {
            "application/javascript": [
              "download(\"download_fedccb5a-4b20-43e2-8052-8ab1db2f476e\", \"preds_testlgbm.csv\", 42805)"
            ],
            "text/plain": [
              "<IPython.core.display.Javascript object>"
            ]
          },
          "metadata": {
            "tags": []
          }
        }
      ]
    },
    {
      "cell_type": "code",
      "metadata": {
        "id": "s7CbIPBJ-GAY"
      },
      "source": [
        ""
      ],
      "execution_count": null,
      "outputs": []
    },
    {
      "cell_type": "code",
      "metadata": {
        "id": "hSIFTuCR-GDG",
        "colab": {
          "base_uri": "https://localhost:8080/"
        },
        "outputId": "a0ac0d00-3627-4bd9-a71d-06b130fa8cef"
      },
      "source": [
        "!pip install hyperopt\r\n",
        "from hyperopt.pyll.base import scope \r\n",
        "import warnings\r\n",
        "from hyperopt import fmin, tpe, hp, STATUS_OK, Trials"
      ],
      "execution_count": 28,
      "outputs": [
        {
          "output_type": "stream",
          "text": [
            "Requirement already satisfied: hyperopt in /usr/local/lib/python3.7/dist-packages (0.1.2)\n",
            "Requirement already satisfied: networkx in /usr/local/lib/python3.7/dist-packages (from hyperopt) (2.5)\n",
            "Requirement already satisfied: scipy in /usr/local/lib/python3.7/dist-packages (from hyperopt) (1.4.1)\n",
            "Requirement already satisfied: future in /usr/local/lib/python3.7/dist-packages (from hyperopt) (0.16.0)\n",
            "Requirement already satisfied: pymongo in /usr/local/lib/python3.7/dist-packages (from hyperopt) (3.11.3)\n",
            "Requirement already satisfied: numpy in /usr/local/lib/python3.7/dist-packages (from hyperopt) (1.19.5)\n",
            "Requirement already satisfied: tqdm in /usr/local/lib/python3.7/dist-packages (from hyperopt) (4.41.1)\n",
            "Requirement already satisfied: six in /usr/local/lib/python3.7/dist-packages (from hyperopt) (1.15.0)\n",
            "Requirement already satisfied: decorator>=4.3.0 in /usr/local/lib/python3.7/dist-packages (from networkx->hyperopt) (4.4.2)\n"
          ],
          "name": "stdout"
        }
      ]
    },
    {
      "cell_type": "code",
      "metadata": {
        "id": "zWqjykCA9Cab",
        "colab": {
          "base_uri": "https://localhost:8080/"
        },
        "outputId": "b5864953-ade8-423c-9ceb-a849ffa685d2"
      },
      "source": [
        "lgb_train = lgb.Dataset(x_train, y_train)\r\n",
        "lgb_eval = lgb.Dataset(x_test, y_test, reference=lgb_train)\r\n",
        "space={'max_depth': hp.quniform(\"max_depth\", 3, 12, 1),\r\n",
        "    #    'learning_rate' : hp.quniform('learning_rate', 0.001, 0.5, 0.01),\r\n",
        "        'min_samples_split' :hp.quniform('min_samples_split',2,200,25),\r\n",
        "        'num_leaves': hp.quniform('num_leaves', 62,63,1),\r\n",
        "    #    'feature_fraction': hp.quniform('feature_fraction', 0.01,0.1,1),\r\n",
        "        'sub_feature': hp.quniform('sub_feature',0.1,1,1),\r\n",
        "        'min_data': hp.quniform('min_data', 10,150,1)\r\n",
        "    }\r\n",
        "\r\n",
        "def hyperparameter_tuning(space):\r\n",
        " #   params = {\r\n",
        "  #      'max_depth':int(space['max_depth']),'min_samples_split' :int(space['min_samples_split']),'num_leaves' :int(space['num_leaves']),\r\n",
        "   #     'min_data' :int(space['min_data']),'learning_rate':space['learning_rate'],'feature_fraction':space['feature_fraction'],\r\n",
        "    #    'sub_feature':space['sub_feature']\r\n",
        "   # } \r\n",
        "    model = lgb.LGBMRegressor(max_depth=int(space['max_depth']),min_samples_split=int(space['min_samples_split']),num_leaves=int(space['num_leaves']),\r\n",
        "        min_data=int(space['min_data']),learning_rate=0.05,feature_fraction=0.22,\r\n",
        "        sub_feature=space['sub_feature'])\r\n",
        "  #  model=lgb.train(params,lgb_train)        \r\n",
        "    model.fit(x_train, y_train)                    \r\n",
        "    preds = model.predict(x_test)\r\n",
        "\r\n",
        "    logloss = log_loss(y_test, preds)\r\n",
        "    print(logloss)\r\n",
        "    #change the metric if you like\r\n",
        "    return {'loss':logloss, 'status': STATUS_OK, 'model': model}\r\n",
        "\r\n",
        "trials = Trials()\r\n",
        "best = fmin(fn=hyperparameter_tuning,\r\n",
        "            space=space,\r\n",
        "            algo=tpe.suggest,\r\n",
        "            max_evals=100,\r\n",
        "            trials=trials)\r\n",
        "\r\n",
        "\r\n",
        "print (best)"
      ],
      "execution_count": 46,
      "outputs": [
        {
          "output_type": "stream",
          "text": [
            "0.4683998839782885\n",
            "0.4351711662648044\n",
            "0.4480122164621642\n",
            "0.4293907757111123\n",
            "0.45149907695358427\n",
            "0.4317844726414302\n",
            "0.43373716880296587\n",
            "0.42389448389704565\n",
            "0.43813798999109865\n",
            "0.4312791234637509\n",
            "0.4268537191004695\n",
            "0.44933785393030046\n",
            "0.4430549787646587\n",
            "0.4271204602008854\n",
            "0.4739707290059741\n",
            "0.4373419117915008\n",
            "0.4483336526505651\n",
            "0.44155226824096133\n",
            "0.4136246040507578\n",
            "0.4460732786920147\n",
            "0.44029452340317754\n",
            "0.44737090329150775\n",
            "0.42527162277138475\n",
            "0.44113029731832426\n",
            "0.4404752564697964\n",
            "0.43325105191504465\n",
            "0.4216553790543268\n",
            "0.4260973818782435\n",
            "0.4288031303774944\n",
            "0.4656268054738015\n",
            "0.44246971591665896\n",
            "0.42319275911412957\n",
            "0.4401657042081713\n",
            "0.4360422799910597\n",
            "0.43851128415625057\n",
            "0.4103858395835322\n",
            "0.4236190501628908\n",
            "0.4193077425839196\n",
            "0.41604243722467443\n",
            "0.46176981778976184\n",
            "0.41917869444063877\n",
            "0.42572122485830777\n",
            "0.46160106489575925\n",
            "0.43796055313290727\n",
            "0.4418134981035276\n",
            "0.4340867009196626\n",
            "0.40591087217686356\n",
            "0.4101778733343712\n",
            "0.4280787122595655\n",
            "0.43256671453121515\n",
            "0.4356082617888676\n",
            "0.43390822276971147\n",
            "0.42002070088900767\n",
            "0.4357229734132787\n",
            "0.4288533563756654\n",
            "0.45869848662617885\n",
            "0.4181076140822144\n",
            "0.4535276479903151\n",
            "0.4355015523938128\n",
            "0.42659596800294414\n",
            "0.4338719767945628\n",
            "0.44454213526612485\n",
            "0.42370087820716434\n",
            "0.431580344749959\n",
            "0.43732278543145964\n",
            "0.4359318663787024\n",
            "0.4414169284695448\n",
            "0.4387489930512155\n",
            "0.4305073305196019\n",
            "0.42253774687432877\n",
            "0.4146045988035886\n",
            "0.43380634676714486\n",
            "0.4342439852095369\n",
            "0.43768177371262534\n",
            "0.4281526940011919\n",
            "0.4188059658418186\n",
            "0.42992028969290214\n",
            "0.4257623564908742\n",
            "0.41441497735422095\n",
            "0.41806643646054803\n",
            "0.42504040187405523\n",
            "0.4404387414651019\n",
            "0.4269362491310552\n",
            "0.4565497490917969\n",
            "0.428401580742528\n",
            "0.41154566020207733\n",
            "0.42720550819295927\n",
            "0.42789262072460343\n",
            "0.42482561773268074\n",
            "0.4477996542793846\n",
            "0.4530754290131187\n",
            "0.4298026217082183\n",
            "0.4232916376096223\n",
            "0.44182612166982166\n",
            "0.4316642432076779\n",
            "0.42550162522044926\n",
            "0.43843661385986193\n",
            "0.42334191252704767\n",
            "0.4365456974761329\n",
            "0.4224715224482763\n",
            "100%|██████████| 100/100 [00:34<00:00,  2.91it/s, best loss: 0.40591087217686356]\n",
            "{'max_depth': 10.0, 'min_data': 35.0, 'min_samples_split': 0.0, 'num_leaves': 62.0, 'sub_feature': 0.0}\n"
          ],
          "name": "stdout"
        }
      ]
    },
    {
      "cell_type": "code",
      "metadata": {
        "colab": {
          "base_uri": "https://localhost:8080/"
        },
        "id": "ruRoMZAZJpwq",
        "outputId": "a1aece76-5cc1-41b4-9a55-575b29580596"
      },
      "source": [
        "#{'max_depth': 10.0, 'min_data': 35.0, 'min_samples_split': 0.0, 'num_leaves': 62.0, 'sub_feature': 0.0}\r\n",
        "#best loss: 0.40591087217686356\r\n",
        "best"
      ],
      "execution_count": 47,
      "outputs": [
        {
          "output_type": "execute_result",
          "data": {
            "text/plain": [
              "{'max_depth': 10.0,\n",
              " 'min_data': 35.0,\n",
              " 'min_samples_split': 0.0,\n",
              " 'num_leaves': 62.0,\n",
              " 'sub_feature': 0.0}"
            ]
          },
          "metadata": {
            "tags": []
          },
          "execution_count": 47
        }
      ]
    },
    {
      "cell_type": "code",
      "metadata": {
        "colab": {
          "base_uri": "https://localhost:8080/"
        },
        "id": "dsvfp3SAJxM_",
        "outputId": "130c6749-6db5-4882-d25d-13113a39be99"
      },
      "source": [
        "lgb_hyper = lgb.LGBMRegressor(max_depth=10,min_samples_split=0,num_leaves=62,\r\n",
        "        min_data=35,learning_rate=0.05,feature_fraction=0.22,\r\n",
        "        sub_feature=0)\r\n",
        "lgb_hyper.fit(x_train, y_train)                    \r\n",
        "preds = lgb_hyper.predict(x_test)\r\n",
        "\r\n",
        "logloss = log_loss(y_test, preds)\r\n",
        "logloss\r\n"
      ],
      "execution_count": 49,
      "outputs": [
        {
          "output_type": "execute_result",
          "data": {
            "text/plain": [
              "0.40591087217686356"
            ]
          },
          "metadata": {
            "tags": []
          },
          "execution_count": 49
        }
      ]
    },
    {
      "cell_type": "code",
      "metadata": {
        "colab": {
          "base_uri": "https://localhost:8080/"
        },
        "id": "4_VqI-R6btHY",
        "outputId": "33c4b09d-917c-4fb7-9106-78043addcfa6"
      },
      "source": [
        "#Error de train\r\n",
        "preds_train_hyper = lgb_hyper.predict(x_train)\r\n",
        "error_train_hyper = log_loss(y_train, preds_train_hyper)\r\n",
        "error_train_hyper"
      ],
      "execution_count": 50,
      "outputs": [
        {
          "output_type": "execute_result",
          "data": {
            "text/plain": [
              "0.18104773190577023"
            ]
          },
          "metadata": {
            "tags": []
          },
          "execution_count": 50
        }
      ]
    },
    {
      "cell_type": "code",
      "metadata": {
        "id": "rFpaE6AjJxPU"
      },
      "source": [
        ""
      ],
      "execution_count": null,
      "outputs": []
    },
    {
      "cell_type": "code",
      "metadata": {
        "id": "TeXJh6OjBQW2"
      },
      "source": [
        "# Sacamos el y_test_de_practica_agrupado_por_opp\r\n",
        "oportunidades_test_de_practica = x_test['Opportunity_ID']\r\n",
        "oportunidades_test_de_practica = oportunidades_test_de_practica.to_frame()\r\n",
        "\r\n",
        "stage_test_de_practica = y_test.to_frame()\r\n",
        "\r\n",
        "oportunidades_test_de_practica['Target'] = stage_test_de_practica\r\n",
        "y_test_agrupado_por_opp = oportunidades_test_de_practica.groupby('Opportunity_ID').agg({'Target' : 'mean'})\r\n",
        "y_test_agrupado_por_opp = y_test_agrupado_por_opp.reset_index()"
      ],
      "execution_count": 52,
      "outputs": []
    },
    {
      "cell_type": "code",
      "metadata": {
        "id": "q7Wit4w0BQW2"
      },
      "source": [
        "# Sacamos el preds_agrupado_por_opp\r\n",
        "oportunidades_test_de_practica = x_test['Opportunity_ID']\r\n",
        "oportunidades_test_de_practica = oportunidades_test_de_practica.to_frame()\r\n",
        "\r\n",
        "oportunidades_test_de_practica['Target'] = preds\r\n",
        "\r\n",
        "preds_agrupado_por_opp = oportunidades_test_de_practica.groupby('Opportunity_ID').agg({'Target' : 'mean'})\r\n",
        "preds_agrupado_por_opp = preds_agrupado_por_opp.reset_index()"
      ],
      "execution_count": 53,
      "outputs": []
    },
    {
      "cell_type": "code",
      "metadata": {
        "colab": {
          "base_uri": "https://localhost:8080/"
        },
        "id": "vUcD2t0NBQW2",
        "outputId": "197a769a-5386-4b22-8243-1b931bc5c71e"
      },
      "source": [
        "# Calculamos el error con groupby hecho\r\n",
        "error = log_loss(y_test_agrupado_por_opp['Target'], np.nan_to_num(preds_agrupado_por_opp['Target'].to_numpy()))\r\n",
        "error"
      ],
      "execution_count": 54,
      "outputs": [
        {
          "output_type": "execute_result",
          "data": {
            "text/plain": [
              "0.41657399679418755"
            ]
          },
          "metadata": {
            "tags": []
          },
          "execution_count": 54
        }
      ]
    },
    {
      "cell_type": "code",
      "metadata": {
        "colab": {
          "base_uri": "https://localhost:8080/",
          "height": 407
        },
        "id": "52EfFLfYWabS",
        "outputId": "9ed38289-25bf-4d06-c49b-f8d065d373e1"
      },
      "source": [
        "# Sacamos el preds_test_agrupado_por_opp\r\n",
        "preds_test_kaggle_hyper = lgb_hyper.predict(data_test_kaggle)\r\n",
        "\r\n",
        "oportunidades_test = data_test_kaggle['Opportunity_ID']\r\n",
        "oportunidades_test = oportunidades_test.to_frame()\r\n",
        "\r\n",
        "oportunidades_test['Target'] = preds_test_kaggle_hyper\r\n",
        "\r\n",
        "preds_test_kaggle_agrupado_por_opp = oportunidades_test.groupby('Opportunity_ID').agg({'Target' : 'mean'})\r\n",
        "preds_test_kaggle_agrupado_por_opp = preds_test_kaggle_agrupado_por_opp.reset_index()\r\n",
        "preds_test_kaggle_agrupado_por_opp['Opportunity_ID'] = preds_test_kaggle_agrupado_por_opp['Opportunity_ID'].astype(int)\r\n",
        "\r\n",
        "preds_test_kaggle_agrupado_por_opp"
      ],
      "execution_count": 55,
      "outputs": [
        {
          "output_type": "execute_result",
          "data": {
            "text/html": [
              "<div>\n",
              "<style scoped>\n",
              "    .dataframe tbody tr th:only-of-type {\n",
              "        vertical-align: middle;\n",
              "    }\n",
              "\n",
              "    .dataframe tbody tr th {\n",
              "        vertical-align: top;\n",
              "    }\n",
              "\n",
              "    .dataframe thead th {\n",
              "        text-align: right;\n",
              "    }\n",
              "</style>\n",
              "<table border=\"1\" class=\"dataframe\">\n",
              "  <thead>\n",
              "    <tr style=\"text-align: right;\">\n",
              "      <th></th>\n",
              "      <th>Opportunity_ID</th>\n",
              "      <th>Target</th>\n",
              "    </tr>\n",
              "  </thead>\n",
              "  <tbody>\n",
              "    <tr>\n",
              "      <th>0</th>\n",
              "      <td>10689</td>\n",
              "      <td>0.640885</td>\n",
              "    </tr>\n",
              "    <tr>\n",
              "      <th>1</th>\n",
              "      <td>10690</td>\n",
              "      <td>0.575505</td>\n",
              "    </tr>\n",
              "    <tr>\n",
              "      <th>2</th>\n",
              "      <td>10691</td>\n",
              "      <td>0.386691</td>\n",
              "    </tr>\n",
              "    <tr>\n",
              "      <th>3</th>\n",
              "      <td>10692</td>\n",
              "      <td>0.424445</td>\n",
              "    </tr>\n",
              "    <tr>\n",
              "      <th>4</th>\n",
              "      <td>10693</td>\n",
              "      <td>0.726168</td>\n",
              "    </tr>\n",
              "    <tr>\n",
              "      <th>...</th>\n",
              "      <td>...</td>\n",
              "      <td>...</td>\n",
              "    </tr>\n",
              "    <tr>\n",
              "      <th>1562</th>\n",
              "      <td>12364</td>\n",
              "      <td>0.608671</td>\n",
              "    </tr>\n",
              "    <tr>\n",
              "      <th>1563</th>\n",
              "      <td>12365</td>\n",
              "      <td>0.351135</td>\n",
              "    </tr>\n",
              "    <tr>\n",
              "      <th>1564</th>\n",
              "      <td>12366</td>\n",
              "      <td>0.218267</td>\n",
              "    </tr>\n",
              "    <tr>\n",
              "      <th>1565</th>\n",
              "      <td>12367</td>\n",
              "      <td>0.442604</td>\n",
              "    </tr>\n",
              "    <tr>\n",
              "      <th>1566</th>\n",
              "      <td>12368</td>\n",
              "      <td>0.491149</td>\n",
              "    </tr>\n",
              "  </tbody>\n",
              "</table>\n",
              "<p>1567 rows × 2 columns</p>\n",
              "</div>"
            ],
            "text/plain": [
              "      Opportunity_ID    Target\n",
              "0              10689  0.640885\n",
              "1              10690  0.575505\n",
              "2              10691  0.386691\n",
              "3              10692  0.424445\n",
              "4              10693  0.726168\n",
              "...              ...       ...\n",
              "1562           12364  0.608671\n",
              "1563           12365  0.351135\n",
              "1564           12366  0.218267\n",
              "1565           12367  0.442604\n",
              "1566           12368  0.491149\n",
              "\n",
              "[1567 rows x 2 columns]"
            ]
          },
          "metadata": {
            "tags": []
          },
          "execution_count": 55
        }
      ]
    },
    {
      "cell_type": "code",
      "metadata": {
        "colab": {
          "base_uri": "https://localhost:8080/",
          "height": 17
        },
        "id": "xkEVdT29WabU",
        "outputId": "57b36def-c3c1-4dde-b212-3c838bac36bf"
      },
      "source": [
        "from google.colab import files\r\n",
        "\r\n",
        "preds_test_kaggle_agrupado_por_opp.to_csv('preds_testLIGHTGBM_hyper.csv', index=False, header=True)\r\n",
        "files.download('preds_testLIGHTGBM_hyper.csv')"
      ],
      "execution_count": 56,
      "outputs": [
        {
          "output_type": "display_data",
          "data": {
            "application/javascript": [
              "\n",
              "    async function download(id, filename, size) {\n",
              "      if (!google.colab.kernel.accessAllowed) {\n",
              "        return;\n",
              "      }\n",
              "      const div = document.createElement('div');\n",
              "      const label = document.createElement('label');\n",
              "      label.textContent = `Downloading \"${filename}\": `;\n",
              "      div.appendChild(label);\n",
              "      const progress = document.createElement('progress');\n",
              "      progress.max = size;\n",
              "      div.appendChild(progress);\n",
              "      document.body.appendChild(div);\n",
              "\n",
              "      const buffers = [];\n",
              "      let downloaded = 0;\n",
              "\n",
              "      const channel = await google.colab.kernel.comms.open(id);\n",
              "      // Send a message to notify the kernel that we're ready.\n",
              "      channel.send({})\n",
              "\n",
              "      for await (const message of channel.messages) {\n",
              "        // Send a message to notify the kernel that we're ready.\n",
              "        channel.send({})\n",
              "        if (message.buffers) {\n",
              "          for (const buffer of message.buffers) {\n",
              "            buffers.push(buffer);\n",
              "            downloaded += buffer.byteLength;\n",
              "            progress.value = downloaded;\n",
              "          }\n",
              "        }\n",
              "      }\n",
              "      const blob = new Blob(buffers, {type: 'application/binary'});\n",
              "      const a = document.createElement('a');\n",
              "      a.href = window.URL.createObjectURL(blob);\n",
              "      a.download = filename;\n",
              "      div.appendChild(a);\n",
              "      a.click();\n",
              "      div.remove();\n",
              "    }\n",
              "  "
            ],
            "text/plain": [
              "<IPython.core.display.Javascript object>"
            ]
          },
          "metadata": {
            "tags": []
          }
        },
        {
          "output_type": "display_data",
          "data": {
            "application/javascript": [
              "download(\"download_3fbff709-53c0-4cbb-a676-5aef5e3ef70e\", \"preds_testLIGHTGBM_hyper.csv\", 39619)"
            ],
            "text/plain": [
              "<IPython.core.display.Javascript object>"
            ]
          },
          "metadata": {
            "tags": []
          }
        }
      ]
    },
    {
      "cell_type": "code",
      "metadata": {
        "id": "MRSXUAYgJxRb"
      },
      "source": [
        ""
      ],
      "execution_count": null,
      "outputs": []
    },
    {
      "cell_type": "code",
      "metadata": {
        "id": "5vyvh6MiJxT1"
      },
      "source": [
        ""
      ],
      "execution_count": null,
      "outputs": []
    },
    {
      "cell_type": "code",
      "metadata": {
        "id": "Zpa6XLgGJxWL"
      },
      "source": [
        ""
      ],
      "execution_count": null,
      "outputs": []
    }
  ]
}