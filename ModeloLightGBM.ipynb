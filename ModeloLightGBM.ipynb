{
  "nbformat": 4,
  "nbformat_minor": 0,
  "metadata": {
    "colab": {
      "name": "ModeloLightGBM.ipynb",
      "provenance": [],
      "authorship_tag": "ABX9TyNz3oCHEP1GC3kEPppv247+",
      "include_colab_link": true
    },
    "kernelspec": {
      "name": "python3",
      "display_name": "Python 3"
    }
  },
  "cells": [
    {
      "cell_type": "markdown",
      "metadata": {
        "id": "view-in-github",
        "colab_type": "text"
      },
      "source": [
        "<a href=\"https://colab.research.google.com/github/joaquinhojman/ArbolesDeDecision/blob/main/ModeloLightGBM.ipynb\" target=\"_parent\"><img src=\"https://colab.research.google.com/assets/colab-badge.svg\" alt=\"Open In Colab\"/></a>"
      ]
    },
    {
      "cell_type": "code",
      "metadata": {
        "id": "hJXvYvkl9myi"
      },
      "source": [
        "\r\n",
        "import xgboost as xgb\r\n",
        "from sklearn.ensemble import RandomForestRegressor\r\n",
        "from sklearn.metrics import log_loss\r\n",
        "import pandas as pd\r\n",
        "import datetime as dt\r\n",
        "import numpy as np\r\n",
        "%matplotlib inline\r\n",
        "import matplotlib.pyplot as plt\r\n",
        "from sklearn import tree\r\n",
        "from sklearn.model_selection import train_test_split\r\n",
        "from sklearn.metrics import confusion_matrix\r\n",
        "from sklearn.metrics import accuracy_score\r\n",
        "from sklearn.metrics import classification_report\r\n",
        "from urllib.request import urlretrieve\r\n",
        "\r\n",
        "\r\n",
        "from sklearn.model_selection import train_test_split"
      ],
      "execution_count": 1,
      "outputs": []
    },
    {
      "cell_type": "code",
      "metadata": {
        "id": "DexFVsEP9sdR"
      },
      "source": [
        "url_train = 'https://raw.githubusercontent.com/SantiagoTadini/TP2-Datos/main/Features/data_train.csv'\r\n",
        "url_test = 'https://raw.githubusercontent.com/SantiagoTadini/TP2-Datos/main/Features/data_test.csv'\r\n",
        "url_test_kaggle = 'https://raw.githubusercontent.com/SantiagoTadini/TP2-Datos/main/Features/data_test_kaggle.csv'\r\n",
        "\r\n",
        "data_train = pd.read_csv(url_train)\r\n",
        "data_test = pd.read_csv(url_test)\r\n",
        "data_test_kaggle = pd.read_csv(url_test_kaggle)"
      ],
      "execution_count": 2,
      "outputs": []
    },
    {
      "cell_type": "code",
      "metadata": {
        "id": "kCv6xr519sfb"
      },
      "source": [
        "# Separamos los set de datos (data_train y data_test) de sus columnas 'Target'\r\n",
        "# 'x' son los datos, 'y' es el target:\r\n",
        "#   --> x_train son los datos con los que entrenar\r\n",
        "#   --> y_train son las soluciones con las que comparar lo entrenado con x_train\r\n",
        "#   --> x_test son los datos con los que probar\r\n",
        "#   --> y_test son las soluciones con las que comparar lo probado con x_test\r\n",
        "x_train = data_train.iloc[:, :-1]\r\n",
        "y_train = data_train.iloc[:, -1]\r\n",
        "x_test = data_test.iloc[:, :-1]\r\n",
        "y_test = data_test.iloc[:, -1]\r\n",
        "\r\n",
        "#Esto lo hizo chechu y esta bien, no cambiar.\r\n"
      ],
      "execution_count": 3,
      "outputs": []
    },
    {
      "cell_type": "code",
      "metadata": {
        "id": "fF9usWvO9shm"
      },
      "source": [
        "import lightgbm as lgb"
      ],
      "execution_count": 4,
      "outputs": []
    },
    {
      "cell_type": "code",
      "metadata": {
        "colab": {
          "base_uri": "https://localhost:8080/"
        },
        "id": "v7kt-M-F9sjw",
        "outputId": "a5abc31b-29fd-458b-ef0f-3d6ba873f2af"
      },
      "source": [
        "lgb_train = lgb.Dataset(x_train, y_train)\r\n",
        "lgb_eval = lgb.Dataset(x_test, y_test, reference=lgb_train)\r\n",
        "\r\n",
        "params = {\r\n",
        "    'objective': 'regression',\r\n",
        "    'metric': 'binary_logloss',              \r\n",
        "    'num_leaves': 62,\r\n",
        "    'learning_rate': 0.05,\r\n",
        "    'feature_fraction': 0.22,\r\n",
        "    'boosting': 'gbdt','min_samples_split':100\r\n",
        " } \r\n",
        "\r\n",
        "gbm = lgb.train(params,\r\n",
        "                lgb_train,\r\n",
        "                num_boost_round=100,\r\n",
        "                valid_sets=lgb_eval,\r\n",
        "                early_stopping_rounds=100)\r\n",
        "\r\n",
        "preds = gbm.predict(x_test, num_iteration=gbm.best_iteration)"
      ],
      "execution_count": 139,
      "outputs": [
        {
          "output_type": "stream",
          "text": [
            "[1]\tvalid_0's binary_logloss: 0.658956\n",
            "Training until validation scores don't improve for 100 rounds.\n",
            "[2]\tvalid_0's binary_logloss: 0.648688\n",
            "[3]\tvalid_0's binary_logloss: 0.638566\n",
            "[4]\tvalid_0's binary_logloss: 0.628957\n",
            "[5]\tvalid_0's binary_logloss: 0.615469\n",
            "[6]\tvalid_0's binary_logloss: 0.609813\n",
            "[7]\tvalid_0's binary_logloss: 0.598988\n",
            "[8]\tvalid_0's binary_logloss: 0.588421\n",
            "[9]\tvalid_0's binary_logloss: 0.582722\n",
            "[10]\tvalid_0's binary_logloss: 0.575231\n",
            "[11]\tvalid_0's binary_logloss: 0.571289\n",
            "[12]\tvalid_0's binary_logloss: 0.569792\n",
            "[13]\tvalid_0's binary_logloss: 0.568237\n",
            "[14]\tvalid_0's binary_logloss: 0.56513\n",
            "[15]\tvalid_0's binary_logloss: 0.565999\n",
            "[16]\tvalid_0's binary_logloss: 0.562327\n",
            "[17]\tvalid_0's binary_logloss: 0.558412\n",
            "[18]\tvalid_0's binary_logloss: 0.553659\n",
            "[19]\tvalid_0's binary_logloss: 0.555097\n",
            "[20]\tvalid_0's binary_logloss: 0.551887\n",
            "[21]\tvalid_0's binary_logloss: 0.547743\n",
            "[22]\tvalid_0's binary_logloss: 0.543628\n",
            "[23]\tvalid_0's binary_logloss: 0.542537\n",
            "[24]\tvalid_0's binary_logloss: 0.541684\n",
            "[25]\tvalid_0's binary_logloss: 0.537298\n",
            "[26]\tvalid_0's binary_logloss: 0.53507\n",
            "[27]\tvalid_0's binary_logloss: 0.535407\n",
            "[28]\tvalid_0's binary_logloss: 0.531254\n",
            "[29]\tvalid_0's binary_logloss: 0.526806\n",
            "[30]\tvalid_0's binary_logloss: 0.526436\n",
            "[31]\tvalid_0's binary_logloss: 0.522059\n",
            "[32]\tvalid_0's binary_logloss: 0.523323\n",
            "[33]\tvalid_0's binary_logloss: 0.522591\n",
            "[34]\tvalid_0's binary_logloss: 0.519743\n",
            "[35]\tvalid_0's binary_logloss: 0.518098\n",
            "[36]\tvalid_0's binary_logloss: 0.51512\n",
            "[37]\tvalid_0's binary_logloss: 0.513204\n",
            "[38]\tvalid_0's binary_logloss: 0.512686\n",
            "[39]\tvalid_0's binary_logloss: 0.512076\n",
            "[40]\tvalid_0's binary_logloss: 0.507431\n",
            "[41]\tvalid_0's binary_logloss: 0.50684\n",
            "[42]\tvalid_0's binary_logloss: 0.506191\n",
            "[43]\tvalid_0's binary_logloss: 0.506976\n",
            "[44]\tvalid_0's binary_logloss: 0.504883\n",
            "[45]\tvalid_0's binary_logloss: 0.502594\n",
            "[46]\tvalid_0's binary_logloss: 0.500362\n",
            "[47]\tvalid_0's binary_logloss: 0.499786\n",
            "[48]\tvalid_0's binary_logloss: 0.501091\n",
            "[49]\tvalid_0's binary_logloss: 0.50026\n",
            "[50]\tvalid_0's binary_logloss: 0.499089\n",
            "[51]\tvalid_0's binary_logloss: 0.498097\n",
            "[52]\tvalid_0's binary_logloss: 0.49675\n",
            "[53]\tvalid_0's binary_logloss: 0.492999\n",
            "[54]\tvalid_0's binary_logloss: 0.493134\n",
            "[55]\tvalid_0's binary_logloss: 0.490032\n",
            "[56]\tvalid_0's binary_logloss: 0.489034\n",
            "[57]\tvalid_0's binary_logloss: 0.489383\n",
            "[58]\tvalid_0's binary_logloss: 0.488651\n",
            "[59]\tvalid_0's binary_logloss: 0.488867\n",
            "[60]\tvalid_0's binary_logloss: 0.48785\n",
            "[61]\tvalid_0's binary_logloss: 0.489407\n",
            "[62]\tvalid_0's binary_logloss: 0.487246\n",
            "[63]\tvalid_0's binary_logloss: 0.486\n",
            "[64]\tvalid_0's binary_logloss: 0.485871\n",
            "[65]\tvalid_0's binary_logloss: 0.493861\n",
            "[66]\tvalid_0's binary_logloss: 0.493108\n",
            "[67]\tvalid_0's binary_logloss: 0.484598\n",
            "[68]\tvalid_0's binary_logloss: 0.493625\n",
            "[69]\tvalid_0's binary_logloss: 0.495401\n",
            "[70]\tvalid_0's binary_logloss: 0.495683\n",
            "[71]\tvalid_0's binary_logloss: 0.493585\n",
            "[72]\tvalid_0's binary_logloss: 0.490783\n",
            "[73]\tvalid_0's binary_logloss: 0.493457\n",
            "[74]\tvalid_0's binary_logloss: 0.479447\n",
            "[75]\tvalid_0's binary_logloss: 0.488218\n",
            "[76]\tvalid_0's binary_logloss: 0.497014\n",
            "[77]\tvalid_0's binary_logloss: 0.49625\n",
            "[78]\tvalid_0's binary_logloss: 0.495854\n",
            "[79]\tvalid_0's binary_logloss: 0.497852\n",
            "[80]\tvalid_0's binary_logloss: 0.487426\n",
            "[81]\tvalid_0's binary_logloss: 0.488279\n",
            "[82]\tvalid_0's binary_logloss: 0.485096\n",
            "[83]\tvalid_0's binary_logloss: 0.494814\n",
            "[84]\tvalid_0's binary_logloss: 0.494615\n",
            "[85]\tvalid_0's binary_logloss: 0.49307\n",
            "[86]\tvalid_0's binary_logloss: 0.491003\n",
            "[87]\tvalid_0's binary_logloss: 0.48241\n",
            "[88]\tvalid_0's binary_logloss: 0.493528\n",
            "[89]\tvalid_0's binary_logloss: 0.505887\n",
            "[90]\tvalid_0's binary_logloss: 0.506165\n",
            "[91]\tvalid_0's binary_logloss: 0.50616\n",
            "[92]\tvalid_0's binary_logloss: 0.498266\n",
            "[93]\tvalid_0's binary_logloss: 0.515143\n",
            "[94]\tvalid_0's binary_logloss: 0.542174\n",
            "[95]\tvalid_0's binary_logloss: 0.531929\n",
            "[96]\tvalid_0's binary_logloss: 0.482861\n",
            "[97]\tvalid_0's binary_logloss: 0.498098\n",
            "[98]\tvalid_0's binary_logloss: 0.495618\n",
            "[99]\tvalid_0's binary_logloss: 0.504123\n",
            "[100]\tvalid_0's binary_logloss: 0.496442\n",
            "Did not meet early stopping. Best iteration is:\n",
            "[74]\tvalid_0's binary_logloss: 0.479447\n"
          ],
          "name": "stdout"
        }
      ]
    },
    {
      "cell_type": "code",
      "metadata": {
        "colab": {
          "base_uri": "https://localhost:8080/"
        },
        "id": "ln2eKPLu9518",
        "outputId": "f9dc59e1-8f46-424d-a3ec-431854684eef"
      },
      "source": [
        "\r\n",
        "error = log_loss(y_test, preds)\r\n",
        "error"
      ],
      "execution_count": 141,
      "outputs": [
        {
          "output_type": "execute_result",
          "data": {
            "text/plain": [
              "0.48116702322457333"
            ]
          },
          "metadata": {
            "tags": []
          },
          "execution_count": 141
        }
      ]
    },
    {
      "cell_type": "code",
      "metadata": {
        "id": "tLVwzqC9-F67"
      },
      "source": [
        ""
      ],
      "execution_count": 6,
      "outputs": []
    },
    {
      "cell_type": "code",
      "metadata": {
        "id": "TSTQvmjSN1xW"
      },
      "source": [
        "# Sacamos el y_test_de_practica_agrupado_por_opp\r\n",
        "oportunidades_test_de_practica = x_test['Opportunity_ID']\r\n",
        "oportunidades_test_de_practica = oportunidades_test_de_practica.to_frame()\r\n",
        "\r\n",
        "stage_test_de_practica = y_test.to_frame()\r\n",
        "\r\n",
        "oportunidades_test_de_practica['Target'] = stage_test_de_practica\r\n",
        "y_test_agrupado_por_opp = oportunidades_test_de_practica.groupby('Opportunity_ID').agg({'Target' : 'mean'})\r\n",
        "y_test_agrupado_por_opp = y_test_agrupado_por_opp.reset_index()"
      ],
      "execution_count": 7,
      "outputs": []
    },
    {
      "cell_type": "code",
      "metadata": {
        "id": "bJUEgnFPN9ZC"
      },
      "source": [
        "# Sacamos el preds_agrupado_por_opp\r\n",
        "oportunidades_test_de_practica = x_test['Opportunity_ID']\r\n",
        "oportunidades_test_de_practica = oportunidades_test_de_practica.to_frame()\r\n",
        "\r\n",
        "oportunidades_test_de_practica['Target'] = preds\r\n",
        "\r\n",
        "preds_agrupado_por_opp = oportunidades_test_de_practica.groupby('Opportunity_ID').agg({'Target' : 'mean'})\r\n",
        "preds_agrupado_por_opp = preds_agrupado_por_opp.reset_index()"
      ],
      "execution_count": 142,
      "outputs": []
    },
    {
      "cell_type": "code",
      "metadata": {
        "colab": {
          "base_uri": "https://localhost:8080/"
        },
        "id": "2w2f41zwOCe_",
        "outputId": "293b4283-b568-4ef6-dd33-739ac035049c"
      },
      "source": [
        "# Calculamos el error con groupby hecho\r\n",
        "error = log_loss(y_test_agrupado_por_opp['Target'], np.nan_to_num(preds_agrupado_por_opp['Target'].to_numpy()))\r\n",
        "error"
      ],
      "execution_count": 143,
      "outputs": [
        {
          "output_type": "execute_result",
          "data": {
            "text/plain": [
              "0.47376354355318984"
            ]
          },
          "metadata": {
            "tags": []
          },
          "execution_count": 143
        }
      ]
    },
    {
      "cell_type": "code",
      "metadata": {
        "colab": {
          "base_uri": "https://localhost:8080/",
          "height": 419
        },
        "id": "Tj35eMc4OIZO",
        "outputId": "118d732e-0370-4ec8-f13c-e8a9703fac18"
      },
      "source": [
        "# Sacamos el preds_test_agrupado_por_opp\r\n",
        "preds_test_kaggle = gbm.predict(data_test_kaggle)\r\n",
        "\r\n",
        "oportunidades_test = data_test_kaggle['Opportunity_ID']\r\n",
        "oportunidades_test = oportunidades_test.to_frame()\r\n",
        "\r\n",
        "oportunidades_test['Target'] = preds_test_kaggle\r\n",
        "\r\n",
        "preds_test_kaggle_agrupado_por_opp = oportunidades_test.groupby('Opportunity_ID').agg({'Target' : 'mean'})\r\n",
        "preds_test_kaggle_agrupado_por_opp = preds_test_kaggle_agrupado_por_opp.reset_index()\r\n",
        "\r\n",
        "preds_test_kaggle_agrupado_por_opp"
      ],
      "execution_count": 144,
      "outputs": [
        {
          "output_type": "execute_result",
          "data": {
            "text/html": [
              "<div>\n",
              "<style scoped>\n",
              "    .dataframe tbody tr th:only-of-type {\n",
              "        vertical-align: middle;\n",
              "    }\n",
              "\n",
              "    .dataframe tbody tr th {\n",
              "        vertical-align: top;\n",
              "    }\n",
              "\n",
              "    .dataframe thead th {\n",
              "        text-align: right;\n",
              "    }\n",
              "</style>\n",
              "<table border=\"1\" class=\"dataframe\">\n",
              "  <thead>\n",
              "    <tr style=\"text-align: right;\">\n",
              "      <th></th>\n",
              "      <th>Opportunity_ID</th>\n",
              "      <th>Target</th>\n",
              "    </tr>\n",
              "  </thead>\n",
              "  <tbody>\n",
              "    <tr>\n",
              "      <th>0</th>\n",
              "      <td>10689</td>\n",
              "      <td>0.451397</td>\n",
              "    </tr>\n",
              "    <tr>\n",
              "      <th>1</th>\n",
              "      <td>10690</td>\n",
              "      <td>0.326100</td>\n",
              "    </tr>\n",
              "    <tr>\n",
              "      <th>2</th>\n",
              "      <td>10691</td>\n",
              "      <td>0.068072</td>\n",
              "    </tr>\n",
              "    <tr>\n",
              "      <th>3</th>\n",
              "      <td>10692</td>\n",
              "      <td>0.323481</td>\n",
              "    </tr>\n",
              "    <tr>\n",
              "      <th>4</th>\n",
              "      <td>10693</td>\n",
              "      <td>0.598353</td>\n",
              "    </tr>\n",
              "    <tr>\n",
              "      <th>...</th>\n",
              "      <td>...</td>\n",
              "      <td>...</td>\n",
              "    </tr>\n",
              "    <tr>\n",
              "      <th>1562</th>\n",
              "      <td>12364</td>\n",
              "      <td>0.627461</td>\n",
              "    </tr>\n",
              "    <tr>\n",
              "      <th>1563</th>\n",
              "      <td>12365</td>\n",
              "      <td>0.153742</td>\n",
              "    </tr>\n",
              "    <tr>\n",
              "      <th>1564</th>\n",
              "      <td>12366</td>\n",
              "      <td>0.019273</td>\n",
              "    </tr>\n",
              "    <tr>\n",
              "      <th>1565</th>\n",
              "      <td>12367</td>\n",
              "      <td>0.101532</td>\n",
              "    </tr>\n",
              "    <tr>\n",
              "      <th>1566</th>\n",
              "      <td>12368</td>\n",
              "      <td>0.209723</td>\n",
              "    </tr>\n",
              "  </tbody>\n",
              "</table>\n",
              "<p>1567 rows × 2 columns</p>\n",
              "</div>"
            ],
            "text/plain": [
              "      Opportunity_ID    Target\n",
              "0              10689  0.451397\n",
              "1              10690  0.326100\n",
              "2              10691  0.068072\n",
              "3              10692  0.323481\n",
              "4              10693  0.598353\n",
              "...              ...       ...\n",
              "1562           12364  0.627461\n",
              "1563           12365  0.153742\n",
              "1564           12366  0.019273\n",
              "1565           12367  0.101532\n",
              "1566           12368  0.209723\n",
              "\n",
              "[1567 rows x 2 columns]"
            ]
          },
          "metadata": {
            "tags": []
          },
          "execution_count": 144
        }
      ]
    },
    {
      "cell_type": "code",
      "metadata": {
        "colab": {
          "base_uri": "https://localhost:8080/",
          "height": 17
        },
        "id": "jI7RZf_oON8L",
        "outputId": "80f40aba-0526-41fb-b3e7-e06946f30a73"
      },
      "source": [
        "from google.colab import files\r\n",
        "\r\n",
        "preds_test_kaggle_agrupado_por_opp.to_csv('preds_testlgbm.csv', index=False, header=True)\r\n",
        "files.download('preds_testlgbm.csv')"
      ],
      "execution_count": 145,
      "outputs": [
        {
          "output_type": "display_data",
          "data": {
            "application/javascript": [
              "\n",
              "    async function download(id, filename, size) {\n",
              "      if (!google.colab.kernel.accessAllowed) {\n",
              "        return;\n",
              "      }\n",
              "      const div = document.createElement('div');\n",
              "      const label = document.createElement('label');\n",
              "      label.textContent = `Downloading \"${filename}\": `;\n",
              "      div.appendChild(label);\n",
              "      const progress = document.createElement('progress');\n",
              "      progress.max = size;\n",
              "      div.appendChild(progress);\n",
              "      document.body.appendChild(div);\n",
              "\n",
              "      const buffers = [];\n",
              "      let downloaded = 0;\n",
              "\n",
              "      const channel = await google.colab.kernel.comms.open(id);\n",
              "      // Send a message to notify the kernel that we're ready.\n",
              "      channel.send({})\n",
              "\n",
              "      for await (const message of channel.messages) {\n",
              "        // Send a message to notify the kernel that we're ready.\n",
              "        channel.send({})\n",
              "        if (message.buffers) {\n",
              "          for (const buffer of message.buffers) {\n",
              "            buffers.push(buffer);\n",
              "            downloaded += buffer.byteLength;\n",
              "            progress.value = downloaded;\n",
              "          }\n",
              "        }\n",
              "      }\n",
              "      const blob = new Blob(buffers, {type: 'application/binary'});\n",
              "      const a = document.createElement('a');\n",
              "      a.href = window.URL.createObjectURL(blob);\n",
              "      a.download = filename;\n",
              "      div.appendChild(a);\n",
              "      a.click();\n",
              "      div.remove();\n",
              "    }\n",
              "  "
            ],
            "text/plain": [
              "<IPython.core.display.Javascript object>"
            ]
          },
          "metadata": {
            "tags": []
          }
        },
        {
          "output_type": "display_data",
          "data": {
            "application/javascript": [
              "download(\"download_00b5f052-aefc-41d0-90d3-b6b896655733\", \"preds_testxgb.csv\", 40238)"
            ],
            "text/plain": [
              "<IPython.core.display.Javascript object>"
            ]
          },
          "metadata": {
            "tags": []
          }
        }
      ]
    },
    {
      "cell_type": "code",
      "metadata": {
        "id": "s7CbIPBJ-GAY"
      },
      "source": [
        ""
      ],
      "execution_count": 6,
      "outputs": []
    },
    {
      "cell_type": "code",
      "metadata": {
        "id": "hSIFTuCR-GDG"
      },
      "source": [
        ""
      ],
      "execution_count": 6,
      "outputs": []
    }
  ]
}