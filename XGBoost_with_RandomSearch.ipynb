{
  "nbformat": 4,
  "nbformat_minor": 0,
  "metadata": {
    "colab": {
      "name": "XGBoost with RandomSearch.ipynb",
      "provenance": [],
      "authorship_tag": "ABX9TyOvKOwe3WGMW4jROda9t37Q",
      "include_colab_link": true
    },
    "kernelspec": {
      "name": "python3",
      "display_name": "Python 3"
    }
  },
  "cells": [
    {
      "cell_type": "markdown",
      "metadata": {
        "id": "view-in-github",
        "colab_type": "text"
      },
      "source": [
        "<a href=\"https://colab.research.google.com/github/joaquinhojman/ArbolesDeDecision/blob/main/XGBoost_with_RandomSearch.ipynb\" target=\"_parent\"><img src=\"https://colab.research.google.com/assets/colab-badge.svg\" alt=\"Open In Colab\"/></a>"
      ]
    },
    {
      "cell_type": "code",
      "metadata": {
        "id": "VVFbEaNndiIR"
      },
      "source": [
        "\r\n",
        "import xgboost as xgb\r\n",
        "from sklearn.ensemble import RandomForestRegressor\r\n",
        "from sklearn.metrics import log_loss\r\n",
        "import pandas as pd\r\n",
        "import datetime as dt\r\n",
        "import numpy as np\r\n",
        "%matplotlib inline\r\n",
        "import matplotlib.pyplot as plt\r\n",
        "from sklearn import tree\r\n",
        "from sklearn.model_selection import train_test_split\r\n",
        "from sklearn.metrics import confusion_matrix\r\n",
        "from sklearn.metrics import accuracy_score\r\n",
        "from sklearn.metrics import classification_report\r\n",
        "from urllib.request import urlretrieve\r\n",
        "\r\n",
        "\r\n",
        "from sklearn.model_selection import train_test_split"
      ],
      "execution_count": 81,
      "outputs": []
    },
    {
      "cell_type": "code",
      "metadata": {
        "id": "oGdQR9Itd5Xj"
      },
      "source": [
        "url_train = 'https://raw.githubusercontent.com/SantiagoTadini/TP2-Datos/main/Features/data_train.csv'\r\n",
        "url_test = 'https://raw.githubusercontent.com/SantiagoTadini/TP2-Datos/main/Features/data_test.csv'\r\n",
        "url_test_kaggle = 'https://raw.githubusercontent.com/SantiagoTadini/TP2-Datos/main/Features/data_test_kaggle.csv'\r\n",
        "\r\n",
        "data_train = pd.read_csv(url_train)\r\n",
        "data_test = pd.read_csv(url_test)\r\n",
        "data_test_kaggle = pd.read_csv(url_test_kaggle)"
      ],
      "execution_count": 91,
      "outputs": []
    },
    {
      "cell_type": "code",
      "metadata": {
        "id": "SDf6A_Red5c7"
      },
      "source": [
        "# Separamos los set de datos (data_train y data_test) de sus columnas 'Target'\r\n",
        "# 'x' son los datos, 'y' es el target:\r\n",
        "#   --> x_train son los datos con los que entrenar\r\n",
        "#   --> y_train son las soluciones con las que comparar lo entrenado con x_train\r\n",
        "#   --> x_test son los datos con los que probar\r\n",
        "#   --> y_test son las soluciones con las que comparar lo probado con x_test\r\n",
        "x_train = data_train.iloc[:, :-1]\r\n",
        "y_train = data_train.iloc[:, -1]\r\n",
        "x_test = data_test.iloc[:, :-1]\r\n",
        "y_test = data_test.iloc[:, -1]\r\n",
        "#Esto lo hizo chechu y esta bien, no cambiar."
      ],
      "execution_count": 129,
      "outputs": []
    },
    {
      "cell_type": "code",
      "metadata": {
        "id": "8CvnSYhod5gD"
      },
      "source": [
        " xg_reg = xgb.XGBRegressor(colsample_bytree = 0.3, learning_rate = 0.1, max_depth = 5 , \r\n",
        "                           alpha = 10, n_estimators = 30, eta=0.2,nthread=2,objective='reg:logistic',\r\n",
        "                           booster='gbtree',max_features=12,error='log_loss')\r\n",
        " xg_reg.fit(x_train, y_train)\r\n",
        " preds = xg_reg.predict(x_test) \r\n"
      ],
      "execution_count": 196,
      "outputs": []
    },
    {
      "cell_type": "code",
      "metadata": {
        "colab": {
          "base_uri": "https://localhost:8080/"
        },
        "id": "bCxliNWgeC-A",
        "outputId": "0626b853-5a8b-4ea7-ddaf-5903f54c8f84"
      },
      "source": [
        "error = log_loss(y_test, preds)\r\n",
        "error"
      ],
      "execution_count": 197,
      "outputs": [
        {
          "output_type": "execute_result",
          "data": {
            "text/plain": [
              "0.499468301211706"
            ]
          },
          "metadata": {
            "tags": []
          },
          "execution_count": 197
        }
      ]
    },
    {
      "cell_type": "code",
      "metadata": {
        "id": "uoKk6dLmg6B9",
        "colab": {
          "base_uri": "https://localhost:8080/"
        },
        "outputId": "6d4265ee-afb1-4425-8327-c94a3d00a51d"
      },
      "source": [
        "preds_train = xg_reg.predict(x_train)\r\n",
        "error_train = log_loss(y_train, preds_train)\r\n",
        "error_train"
      ],
      "execution_count": 95,
      "outputs": [
        {
          "output_type": "execute_result",
          "data": {
            "text/plain": [
              "0.28112604813357955"
            ]
          },
          "metadata": {
            "tags": []
          },
          "execution_count": 95
        }
      ]
    },
    {
      "cell_type": "code",
      "metadata": {
        "id": "Y9z--CLtGhMf"
      },
      "source": [
        ""
      ],
      "execution_count": null,
      "outputs": []
    },
    {
      "cell_type": "markdown",
      "metadata": {
        "id": "_1f7Cl_7GioJ"
      },
      "source": [
        "#K-fold cross validation"
      ]
    },
    {
      "cell_type": "code",
      "metadata": {
        "id": "LGjerDT5g6GK"
      },
      "source": [
        "data_dmatrix = xgb.DMatrix(data=x_train,label=y_train)"
      ],
      "execution_count": 96,
      "outputs": []
    },
    {
      "cell_type": "code",
      "metadata": {
        "id": "z8lI8kXcGjxP"
      },
      "source": [
        "params = {\"objective\":\"reg:squarederror\",'colsample_bytree': 0.3,\r\n",
        "          'learning_rate': 0.1, 'max_depth': 5, 'alpha': 10}\r\n",
        "\r\n",
        "cv_results = xgb.cv(dtrain=data_dmatrix, params=params, nfold=3,\r\n",
        "                    num_boost_round=50, early_stopping_rounds=10,\r\n",
        "                    metrics=\"rmse\", as_pandas=True, seed=123)"
      ],
      "execution_count": 97,
      "outputs": []
    },
    {
      "cell_type": "code",
      "metadata": {
        "colab": {
          "base_uri": "https://localhost:8080/",
          "height": 204
        },
        "id": "viI1_LO_Gjzb",
        "outputId": "2017763b-c926-43bf-fc19-c7cac8ab4608"
      },
      "source": [
        "cv_results.head()"
      ],
      "execution_count": 98,
      "outputs": [
        {
          "output_type": "execute_result",
          "data": {
            "text/html": [
              "<div>\n",
              "<style scoped>\n",
              "    .dataframe tbody tr th:only-of-type {\n",
              "        vertical-align: middle;\n",
              "    }\n",
              "\n",
              "    .dataframe tbody tr th {\n",
              "        vertical-align: top;\n",
              "    }\n",
              "\n",
              "    .dataframe thead th {\n",
              "        text-align: right;\n",
              "    }\n",
              "</style>\n",
              "<table border=\"1\" class=\"dataframe\">\n",
              "  <thead>\n",
              "    <tr style=\"text-align: right;\">\n",
              "      <th></th>\n",
              "      <th>train-rmse-mean</th>\n",
              "      <th>train-rmse-std</th>\n",
              "      <th>test-rmse-mean</th>\n",
              "      <th>test-rmse-std</th>\n",
              "    </tr>\n",
              "  </thead>\n",
              "  <tbody>\n",
              "    <tr>\n",
              "      <th>0</th>\n",
              "      <td>0.476458</td>\n",
              "      <td>0.000393</td>\n",
              "      <td>0.476884</td>\n",
              "      <td>0.000513</td>\n",
              "    </tr>\n",
              "    <tr>\n",
              "      <th>1</th>\n",
              "      <td>0.457211</td>\n",
              "      <td>0.001626</td>\n",
              "      <td>0.458554</td>\n",
              "      <td>0.003105</td>\n",
              "    </tr>\n",
              "    <tr>\n",
              "      <th>2</th>\n",
              "      <td>0.442539</td>\n",
              "      <td>0.001326</td>\n",
              "      <td>0.444240</td>\n",
              "      <td>0.000990</td>\n",
              "    </tr>\n",
              "    <tr>\n",
              "      <th>3</th>\n",
              "      <td>0.427632</td>\n",
              "      <td>0.002853</td>\n",
              "      <td>0.429669</td>\n",
              "      <td>0.001671</td>\n",
              "    </tr>\n",
              "    <tr>\n",
              "      <th>4</th>\n",
              "      <td>0.414394</td>\n",
              "      <td>0.002053</td>\n",
              "      <td>0.416721</td>\n",
              "      <td>0.003267</td>\n",
              "    </tr>\n",
              "  </tbody>\n",
              "</table>\n",
              "</div>"
            ],
            "text/plain": [
              "   train-rmse-mean  train-rmse-std  test-rmse-mean  test-rmse-std\n",
              "0         0.476458        0.000393        0.476884       0.000513\n",
              "1         0.457211        0.001626        0.458554       0.003105\n",
              "2         0.442539        0.001326        0.444240       0.000990\n",
              "3         0.427632        0.002853        0.429669       0.001671\n",
              "4         0.414394        0.002053        0.416721       0.003267"
            ]
          },
          "metadata": {
            "tags": []
          },
          "execution_count": 98
        }
      ]
    },
    {
      "cell_type": "code",
      "metadata": {
        "colab": {
          "base_uri": "https://localhost:8080/"
        },
        "id": "zGNeEreSGj13",
        "outputId": "0267833f-c3b0-48c3-916f-3c3e35603a69"
      },
      "source": [
        "print((cv_results[\"test-rmse-mean\"]).tail(1))"
      ],
      "execution_count": 99,
      "outputs": [
        {
          "output_type": "stream",
          "text": [
            "49    0.282837\n",
            "Name: test-rmse-mean, dtype: float64\n"
          ],
          "name": "stdout"
        }
      ]
    },
    {
      "cell_type": "code",
      "metadata": {
        "colab": {
          "base_uri": "https://localhost:8080/",
          "height": 475
        },
        "id": "UUn4BsFXGj4o",
        "outputId": "613665b3-9238-4c73-8f0d-d34b004414ca"
      },
      "source": [
        "## Importancia de los features (cuantas veces aparecen en los árboles)\r\n",
        "plt.rcParams['figure.figsize'] = [12, 7]\r\n",
        "xgb.plot_importance(xg_reg)"
      ],
      "execution_count": 100,
      "outputs": [
        {
          "output_type": "execute_result",
          "data": {
            "text/plain": [
              "<matplotlib.axes._subplots.AxesSubplot at 0x7f447e005908>"
            ]
          },
          "metadata": {
            "tags": []
          },
          "execution_count": 100
        },
        {
          "output_type": "display_data",
          "data": {
            "image/png": "[encoded data removed]",
            "text/plain": [
              "<Figure size 864x504 with 1 Axes>"
            ]
          },
          "metadata": {
            "tags": [],
            "needs_background": "light"
          }
        }
      ]
    },
    {
      "cell_type": "code",
      "metadata": {
        "id": "haK_buL3Gj9z"
      },
      "source": [
        ""
      ],
      "execution_count": null,
      "outputs": []
    },
    {
      "cell_type": "markdown",
      "metadata": {
        "id": "EKkLptNNINTr"
      },
      "source": [
        "##PREDICCIONES"
      ]
    },
    {
      "cell_type": "code",
      "metadata": {
        "id": "1EGi_1mUekuY"
      },
      "source": [
        "# Sacamos el y_test_de_practica_agrupado_por_opp\r\n",
        "oportunidades_test_de_practica = x_test['Opportunity_ID']\r\n",
        "oportunidades_test_de_practica = oportunidades_test_de_practica.to_frame()\r\n",
        "\r\n",
        "stage_test_de_practica = y_test.to_frame()\r\n",
        "\r\n",
        "oportunidades_test_de_practica['Target'] = stage_test_de_practica\r\n",
        "y_test_agrupado_por_opp = oportunidades_test_de_practica.groupby('Opportunity_ID').agg({'Target' : 'mean'})\r\n",
        "y_test_agrupado_por_opp = y_test_agrupado_por_opp.reset_index()"
      ],
      "execution_count": 101,
      "outputs": []
    },
    {
      "cell_type": "code",
      "metadata": {
        "id": "Od2zW0Qsek5U"
      },
      "source": [
        "# Sacamos el preds_agrupado_por_opp\r\n",
        "oportunidades_test_de_practica = x_test['Opportunity_ID']\r\n",
        "oportunidades_test_de_practica = oportunidades_test_de_practica.to_frame()\r\n",
        "\r\n",
        "oportunidades_test_de_practica['Target'] = preds\r\n",
        "\r\n",
        "preds_agrupado_por_opp = oportunidades_test_de_practica.groupby('Opportunity_ID').agg({'Target' : 'mean'})\r\n",
        "preds_agrupado_por_opp = preds_agrupado_por_opp.reset_index()"
      ],
      "execution_count": 102,
      "outputs": []
    },
    {
      "cell_type": "code",
      "metadata": {
        "colab": {
          "base_uri": "https://localhost:8080/"
        },
        "id": "ho0AqyX9elBa",
        "outputId": "93fbf389-9831-496d-f1aa-bf1c97110e8b"
      },
      "source": [
        "# Calculamos el error con groupby hecho\r\n",
        "error = log_loss(y_test_agrupado_por_opp['Target'], np.nan_to_num(preds_agrupado_por_opp['Target'].to_numpy()))\r\n",
        "error"
      ],
      "execution_count": 103,
      "outputs": [
        {
          "output_type": "execute_result",
          "data": {
            "text/plain": [
              "0.5038236021392735"
            ]
          },
          "metadata": {
            "tags": []
          },
          "execution_count": 103
        }
      ]
    },
    {
      "cell_type": "code",
      "metadata": {
        "colab": {
          "base_uri": "https://localhost:8080/",
          "height": 419
        },
        "id": "6d66hUK_kBMJ",
        "outputId": "b219a887-e5bb-4dd0-f17a-aee1e9d03baa"
      },
      "source": [
        "# Sacamos el preds_test_agrupado_por_opp\r\n",
        "\r\n",
        "preds_test_kaggle = xg_reg.predict(data_test_kaggle)\r\n",
        "\r\n",
        "oportunidades_test = data_test_kaggle['Opportunity_ID']\r\n",
        "oportunidades_test = oportunidades_test.to_frame()\r\n",
        "\r\n",
        "oportunidades_test['Target'] = preds_test_kaggle\r\n",
        "\r\n",
        "preds_test_kaggle_agrupado_por_opp = oportunidades_test.groupby('Opportunity_ID').agg({'Target' : 'mean'})\r\n",
        "preds_test_kaggle_agrupado_por_opp = preds_test_kaggle_agrupado_por_opp.reset_index()\r\n",
        "\r\n",
        "preds_test_kaggle_agrupado_por_opp"
      ],
      "execution_count": 108,
      "outputs": [
        {
          "output_type": "execute_result",
          "data": {
            "text/html": [
              "<div>\n",
              "<style scoped>\n",
              "    .dataframe tbody tr th:only-of-type {\n",
              "        vertical-align: middle;\n",
              "    }\n",
              "\n",
              "    .dataframe tbody tr th {\n",
              "        vertical-align: top;\n",
              "    }\n",
              "\n",
              "    .dataframe thead th {\n",
              "        text-align: right;\n",
              "    }\n",
              "</style>\n",
              "<table border=\"1\" class=\"dataframe\">\n",
              "  <thead>\n",
              "    <tr style=\"text-align: right;\">\n",
              "      <th></th>\n",
              "      <th>Opportunity_ID</th>\n",
              "      <th>Target</th>\n",
              "    </tr>\n",
              "  </thead>\n",
              "  <tbody>\n",
              "    <tr>\n",
              "      <th>0</th>\n",
              "      <td>10689</td>\n",
              "      <td>0.479465</td>\n",
              "    </tr>\n",
              "    <tr>\n",
              "      <th>1</th>\n",
              "      <td>10690</td>\n",
              "      <td>0.423327</td>\n",
              "    </tr>\n",
              "    <tr>\n",
              "      <th>2</th>\n",
              "      <td>10691</td>\n",
              "      <td>0.201926</td>\n",
              "    </tr>\n",
              "    <tr>\n",
              "      <th>3</th>\n",
              "      <td>10692</td>\n",
              "      <td>0.344482</td>\n",
              "    </tr>\n",
              "    <tr>\n",
              "      <th>4</th>\n",
              "      <td>10693</td>\n",
              "      <td>0.497590</td>\n",
              "    </tr>\n",
              "    <tr>\n",
              "      <th>...</th>\n",
              "      <td>...</td>\n",
              "      <td>...</td>\n",
              "    </tr>\n",
              "    <tr>\n",
              "      <th>1562</th>\n",
              "      <td>12364</td>\n",
              "      <td>0.545757</td>\n",
              "    </tr>\n",
              "    <tr>\n",
              "      <th>1563</th>\n",
              "      <td>12365</td>\n",
              "      <td>0.189245</td>\n",
              "    </tr>\n",
              "    <tr>\n",
              "      <th>1564</th>\n",
              "      <td>12366</td>\n",
              "      <td>0.115730</td>\n",
              "    </tr>\n",
              "    <tr>\n",
              "      <th>1565</th>\n",
              "      <td>12367</td>\n",
              "      <td>0.148630</td>\n",
              "    </tr>\n",
              "    <tr>\n",
              "      <th>1566</th>\n",
              "      <td>12368</td>\n",
              "      <td>0.221033</td>\n",
              "    </tr>\n",
              "  </tbody>\n",
              "</table>\n",
              "<p>1567 rows × 2 columns</p>\n",
              "</div>"
            ],
            "text/plain": [
              "      Opportunity_ID    Target\n",
              "0              10689  0.479465\n",
              "1              10690  0.423327\n",
              "2              10691  0.201926\n",
              "3              10692  0.344482\n",
              "4              10693  0.497590\n",
              "...              ...       ...\n",
              "1562           12364  0.545757\n",
              "1563           12365  0.189245\n",
              "1564           12366  0.115730\n",
              "1565           12367  0.148630\n",
              "1566           12368  0.221033\n",
              "\n",
              "[1567 rows x 2 columns]"
            ]
          },
          "metadata": {
            "tags": []
          },
          "execution_count": 108
        }
      ]
    },
    {
      "cell_type": "code",
      "metadata": {
        "id": "Fhj18PzokKCx",
        "colab": {
          "base_uri": "https://localhost:8080/",
          "height": 17
        },
        "outputId": "69b57ce5-9452-4995-c591-c507af3a78a2"
      },
      "source": [
        "from google.colab import files\r\n",
        "\r\n",
        "preds_test_agrupado_por_oppGV.to_csv('preds_testxgb.csv', index=False, header=True)\r\n",
        "files.download('preds_testxgb.csv')"
      ],
      "execution_count": null,
      "outputs": [
        {
          "output_type": "display_data",
          "data": {
            "application/javascript": [
              "\n",
              "    async function download(id, filename, size) {\n",
              "      if (!google.colab.kernel.accessAllowed) {\n",
              "        return;\n",
              "      }\n",
              "      const div = document.createElement('div');\n",
              "      const label = document.createElement('label');\n",
              "      label.textContent = `Downloading \"${filename}\": `;\n",
              "      div.appendChild(label);\n",
              "      const progress = document.createElement('progress');\n",
              "      progress.max = size;\n",
              "      div.appendChild(progress);\n",
              "      document.body.appendChild(div);\n",
              "\n",
              "      const buffers = [];\n",
              "      let downloaded = 0;\n",
              "\n",
              "      const channel = await google.colab.kernel.comms.open(id);\n",
              "      // Send a message to notify the kernel that we're ready.\n",
              "      channel.send({})\n",
              "\n",
              "      for await (const message of channel.messages) {\n",
              "        // Send a message to notify the kernel that we're ready.\n",
              "        channel.send({})\n",
              "        if (message.buffers) {\n",
              "          for (const buffer of message.buffers) {\n",
              "            buffers.push(buffer);\n",
              "            downloaded += buffer.byteLength;\n",
              "            progress.value = downloaded;\n",
              "          }\n",
              "        }\n",
              "      }\n",
              "      const blob = new Blob(buffers, {type: 'application/binary'});\n",
              "      const a = document.createElement('a');\n",
              "      a.href = window.URL.createObjectURL(blob);\n",
              "      a.download = filename;\n",
              "      div.appendChild(a);\n",
              "      a.click();\n",
              "      div.remove();\n",
              "    }\n",
              "  "
            ],
            "text/plain": [
              "<IPython.core.display.Javascript object>"
            ]
          },
          "metadata": {
            "tags": []
          }
        },
        {
          "output_type": "display_data",
          "data": {
            "application/javascript": [
              "download(\"download_415985a2-39bd-4944-9b57-bb134089a43f\", \"preds_testxgb.csv\", 26140)"
            ],
            "text/plain": [
              "<IPython.core.display.Javascript object>"
            ]
          },
          "metadata": {
            "tags": []
          }
        }
      ]
    },
    {
      "cell_type": "code",
      "metadata": {
        "id": "PfNc87bhSjDi"
      },
      "source": [
        ""
      ],
      "execution_count": null,
      "outputs": []
    },
    {
      "cell_type": "code",
      "metadata": {
        "id": "vgQP3mmlSjHA"
      },
      "source": [
        ""
      ],
      "execution_count": null,
      "outputs": []
    },
    {
      "cell_type": "code",
      "metadata": {
        "id": "9wc47rAFITxs"
      },
      "source": [
        ""
      ],
      "execution_count": null,
      "outputs": []
    },
    {
      "cell_type": "markdown",
      "metadata": {
        "id": "XZG3_jEUIT92"
      },
      "source": [
        "#Optimizacion de hiperparametros"
      ]
    },
    {
      "cell_type": "markdown",
      "metadata": {
        "id": "9fT9WATDuX59"
      },
      "source": [
        "Grid Search for Regression\r\n"
      ]
    },
    {
      "cell_type": "code",
      "metadata": {
        "id": "1ZFeSgf8upKE"
      },
      "source": [
        "from sklearn.model_selection import RandomizedSearchCV\r\n",
        "from sklearn.model_selection import GridSearchCV\r\n"
      ],
      "execution_count": 221,
      "outputs": []
    },
    {
      "cell_type": "code",
      "metadata": {
        "id": "TqNBNdHWLhgt"
      },
      "source": [
        "# Espacio de hiperparámetros\r\n",
        "\r\n",
        "search_space = {\r\n",
        "                'alpha' : [8,10,12,14,15,16,16,18,19,20],\r\n",
        "                'max_depth' : [4,5,6,7,8,9,10],\r\n",
        "                'max_features' : [10, 12, 14,16,18,19,21,20],\r\n",
        "                'min_samples_split' : [2, 50,75,100,125,150,175, 200],\r\n",
        "                'learning_rate' : [0.001,0.01,0.05,0.1,0.5,1]}\r\n",
        "opt = RandomizedSearchCV(estimator=xg_reg, error_score='log_loss', param_distributions=search_space, n_iter = 100)"
      ],
      "execution_count": 228,
      "outputs": []
    },
    {
      "cell_type": "code",
      "metadata": {
        "id": "sGKCrI-bybsE",
        "outputId": "e607c60c-f4b8-4e3c-f0a7-2420a831c3d6",
        "colab": {
          "base_uri": "https://localhost:8080/"
        }
      },
      "source": [
        "opt"
      ],
      "execution_count": 190,
      "outputs": [
        {
          "output_type": "execute_result",
          "data": {
            "text/plain": [
              "RandomizedSearchCV(cv=None, error_score='log_loss',\n",
              "                   estimator=XGBRegressor(alpha=10, base_score=0.5,\n",
              "                                          booster='gbtree', colsample_bylevel=1,\n",
              "                                          colsample_bynode=1,\n",
              "                                          colsample_bytree=0.3,\n",
              "                                          error='log_loss', eta=0.2, gamma=0,\n",
              "                                          importance_type='gain',\n",
              "                                          learning_rate=0.1, max_delta_step=0,\n",
              "                                          max_depth=3, max_features=12,\n",
              "                                          min_child_weight=1, missing=None,\n",
              "                                          n_estimators=30, n_jobs=1, nthread=2,\n",
              "                                          objective='reg:logistic',\n",
              "                                          random_state=0, reg_alpha=0,\n",
              "                                          reg_lambda=1, scale_pos_weight=1,\n",
              "                                          seed=None, silent=None, subsample=1,\n",
              "                                          verbosity=1),\n",
              "                   iid='deprecated', n_iter=100, n_jobs=None,\n",
              "                   param_distributions={'max_depth': [4, 5, 6, 7, 8, 9, 10, 11,\n",
              "                                                      12]},\n",
              "                   pre_dispatch='2*n_jobs', random_state=None, refit=True,\n",
              "                   return_train_score=False, scoring=None, verbose=0)"
            ]
          },
          "metadata": {
            "tags": []
          },
          "execution_count": 190
        }
      ]
    },
    {
      "cell_type": "code",
      "metadata": {
        "colab": {
          "base_uri": "https://localhost:8080/"
        },
        "id": "hfijtGtHIWiQ",
        "outputId": "5fa37c3d-6124-4739-bda4-dfbb36c84378"
      },
      "source": [
        "opt.fit(x_train, y_train)\r\n",
        "print(opt.best_params_)"
      ],
      "execution_count": 191,
      "outputs": [
        {
          "output_type": "stream",
          "text": [
            "/usr/local/lib/python3.6/dist-packages/sklearn/model_selection/_search.py:281: UserWarning: The total space of parameters 9 is smaller than n_iter=100. Running 9 iterations. For exhaustive searches, use GridSearchCV.\n",
            "  % (grid_size, self.n_iter, grid_size), UserWarning)\n"
          ],
          "name": "stderr"
        },
        {
          "output_type": "stream",
          "text": [
            "{'max_depth': 9}\n"
          ],
          "name": "stdout"
        }
      ]
    },
    {
      "cell_type": "code",
      "metadata": {
        "id": "y-ie0DKX02KP"
      },
      "source": [
        " xg_reg_optimizado = xgb.XGBRegressor(colsample_bytree = 0.3, learning_rate = 0.1, max_depth = 9, \r\n",
        "                           alpha = 10, n_estimators = 30, eta=0.2,nthread=2,objective='reg:logistic',\r\n",
        "                           booster='gbtree',max_features=14,error='log_loss',min_samples_split=100)\r\n",
        " xg_reg_optimizado.fit(x_train, y_train)\r\n",
        " preds_optimizadas = xg_reg_optimizado.predict(x_test) \r\n"
      ],
      "execution_count": 224,
      "outputs": []
    },
    {
      "cell_type": "code",
      "metadata": {
        "colab": {
          "base_uri": "https://localhost:8080/"
        },
        "id": "QgC4CCaP02Kb",
        "outputId": "c77b22d2-1875-490d-9bb7-a8ef89be9497"
      },
      "source": [
        "error = log_loss(y_test, preds_optimizadas)\r\n",
        "error"
      ],
      "execution_count": 225,
      "outputs": [
        {
          "output_type": "execute_result",
          "data": {
            "text/plain": [
              "0.49310927916607117"
            ]
          },
          "metadata": {
            "tags": []
          },
          "execution_count": 225
        }
      ]
    },
    {
      "cell_type": "code",
      "metadata": {
        "id": "kL41dcDEuboJ"
      },
      "source": [
        ""
      ],
      "execution_count": null,
      "outputs": []
    },
    {
      "cell_type": "code",
      "metadata": {
        "id": "vz5-vG9Eubtq"
      },
      "source": [
        ""
      ],
      "execution_count": null,
      "outputs": []
    },
    {
      "cell_type": "code",
      "metadata": {
        "id": "iV8iTipjubwE"
      },
      "source": [
        ""
      ],
      "execution_count": null,
      "outputs": []
    },
    {
      "cell_type": "code",
      "metadata": {
        "id": "Z9cD3nhCubyL"
      },
      "source": [
        ""
      ],
      "execution_count": null,
      "outputs": []
    },
    {
      "cell_type": "code",
      "metadata": {
        "id": "TSTQvmjSN1xW"
      },
      "source": [
        "# Sacamos el y_test_de_practica_agrupado_por_opp\r\n",
        "oportunidades_test_de_practica = x_test['Opportunity_ID']\r\n",
        "oportunidades_test_de_practica = oportunidades_test_de_practica.to_frame()\r\n",
        "\r\n",
        "stage_test_de_practica = y_test.to_frame()\r\n",
        "\r\n",
        "oportunidades_test_de_practica['Target'] = stage_test_de_practica\r\n",
        "y_test_agrupado_por_opp = oportunidades_test_de_practica.groupby('Opportunity_ID').agg({'Target' : 'mean'})\r\n",
        "y_test_agrupado_por_opp = y_test_agrupado_por_opp.reset_index()"
      ],
      "execution_count": 74,
      "outputs": []
    },
    {
      "cell_type": "code",
      "metadata": {
        "id": "bJUEgnFPN9ZC"
      },
      "source": [
        "# Sacamos el preds_agrupado_por_opp\r\n",
        "oportunidades_test_de_practica = x_test['Opportunity_ID']\r\n",
        "oportunidades_test_de_practica = oportunidades_test_de_practica.to_frame()\r\n",
        "\r\n",
        "oportunidades_test_de_practica['Target'] = preds_optimizadas\r\n",
        "\r\n",
        "preds_agrupado_por_opp = oportunidades_test_de_practica.groupby('Opportunity_ID').agg({'Target' : 'mean'})\r\n",
        "preds_agrupado_por_opp = preds_agrupado_por_opp.reset_index()"
      ],
      "execution_count": 211,
      "outputs": []
    },
    {
      "cell_type": "code",
      "metadata": {
        "colab": {
          "base_uri": "https://localhost:8080/"
        },
        "id": "2w2f41zwOCe_",
        "outputId": "ba003b2e-2a54-4d4d-d867-cf61cac0db41"
      },
      "source": [
        "# Calculamos el error con groupby hecho\r\n",
        "error = log_loss(y_test_agrupado_por_opp['Target'], np.nan_to_num(preds_agrupado_por_opp['Target'].to_numpy()))\r\n",
        "error"
      ],
      "execution_count": 212,
      "outputs": [
        {
          "output_type": "execute_result",
          "data": {
            "text/plain": [
              "0.49684343257570684"
            ]
          },
          "metadata": {
            "tags": []
          },
          "execution_count": 212
        }
      ]
    },
    {
      "cell_type": "code",
      "metadata": {
        "colab": {
          "base_uri": "https://localhost:8080/",
          "height": 419
        },
        "id": "Tj35eMc4OIZO",
        "outputId": "4f0af2c7-7ca6-4406-9a84-b5c9941c65f3"
      },
      "source": [
        "# Sacamos el preds_test_agrupado_por_opp\r\n",
        "preds_test_kaggle = xg_reg_optimizado.predict(data_test_kaggle)\r\n",
        "\r\n",
        "oportunidades_test = data_test_kaggle['Opportunity_ID']\r\n",
        "oportunidades_test = oportunidades_test.to_frame()\r\n",
        "\r\n",
        "oportunidades_test['Target'] = preds_test_kaggle\r\n",
        "\r\n",
        "preds_test_kaggle_agrupado_por_opp = oportunidades_test.groupby('Opportunity_ID').agg({'Target' : 'mean'})\r\n",
        "preds_test_kaggle_agrupado_por_opp = preds_test_kaggle_agrupado_por_opp.reset_index()\r\n",
        "\r\n",
        "preds_test_kaggle_agrupado_por_opp"
      ],
      "execution_count": 213,
      "outputs": [
        {
          "output_type": "execute_result",
          "data": {
            "text/html": [
              "<div>\n",
              "<style scoped>\n",
              "    .dataframe tbody tr th:only-of-type {\n",
              "        vertical-align: middle;\n",
              "    }\n",
              "\n",
              "    .dataframe tbody tr th {\n",
              "        vertical-align: top;\n",
              "    }\n",
              "\n",
              "    .dataframe thead th {\n",
              "        text-align: right;\n",
              "    }\n",
              "</style>\n",
              "<table border=\"1\" class=\"dataframe\">\n",
              "  <thead>\n",
              "    <tr style=\"text-align: right;\">\n",
              "      <th></th>\n",
              "      <th>Opportunity_ID</th>\n",
              "      <th>Target</th>\n",
              "    </tr>\n",
              "  </thead>\n",
              "  <tbody>\n",
              "    <tr>\n",
              "      <th>0</th>\n",
              "      <td>10689</td>\n",
              "      <td>0.381261</td>\n",
              "    </tr>\n",
              "    <tr>\n",
              "      <th>1</th>\n",
              "      <td>10690</td>\n",
              "      <td>0.314539</td>\n",
              "    </tr>\n",
              "    <tr>\n",
              "      <th>2</th>\n",
              "      <td>10691</td>\n",
              "      <td>0.161561</td>\n",
              "    </tr>\n",
              "    <tr>\n",
              "      <th>3</th>\n",
              "      <td>10692</td>\n",
              "      <td>0.349053</td>\n",
              "    </tr>\n",
              "    <tr>\n",
              "      <th>4</th>\n",
              "      <td>10693</td>\n",
              "      <td>0.417359</td>\n",
              "    </tr>\n",
              "    <tr>\n",
              "      <th>...</th>\n",
              "      <td>...</td>\n",
              "      <td>...</td>\n",
              "    </tr>\n",
              "    <tr>\n",
              "      <th>1562</th>\n",
              "      <td>12364</td>\n",
              "      <td>0.477994</td>\n",
              "    </tr>\n",
              "    <tr>\n",
              "      <th>1563</th>\n",
              "      <td>12365</td>\n",
              "      <td>0.134094</td>\n",
              "    </tr>\n",
              "    <tr>\n",
              "      <th>1564</th>\n",
              "      <td>12366</td>\n",
              "      <td>0.105533</td>\n",
              "    </tr>\n",
              "    <tr>\n",
              "      <th>1565</th>\n",
              "      <td>12367</td>\n",
              "      <td>0.090524</td>\n",
              "    </tr>\n",
              "    <tr>\n",
              "      <th>1566</th>\n",
              "      <td>12368</td>\n",
              "      <td>0.173634</td>\n",
              "    </tr>\n",
              "  </tbody>\n",
              "</table>\n",
              "<p>1567 rows × 2 columns</p>\n",
              "</div>"
            ],
            "text/plain": [
              "      Opportunity_ID    Target\n",
              "0              10689  0.381261\n",
              "1              10690  0.314539\n",
              "2              10691  0.161561\n",
              "3              10692  0.349053\n",
              "4              10693  0.417359\n",
              "...              ...       ...\n",
              "1562           12364  0.477994\n",
              "1563           12365  0.134094\n",
              "1564           12366  0.105533\n",
              "1565           12367  0.090524\n",
              "1566           12368  0.173634\n",
              "\n",
              "[1567 rows x 2 columns]"
            ]
          },
          "metadata": {
            "tags": []
          },
          "execution_count": 213
        }
      ]
    },
    {
      "cell_type": "code",
      "metadata": {
        "colab": {
          "base_uri": "https://localhost:8080/",
          "height": 17
        },
        "id": "jI7RZf_oON8L",
        "outputId": "1e459d60-4f43-496c-e14d-82efddf18729"
      },
      "source": [
        "from google.colab import files\r\n",
        "\r\n",
        "preds_test_kaggle_agrupado_por_opp.to_csv('preds_testxgb.csv', index=False, header=True)\r\n",
        "files.download('preds_testxgb.csv')"
      ],
      "execution_count": 214,
      "outputs": [
        {
          "output_type": "display_data",
          "data": {
            "application/javascript": [
              "\n",
              "    async function download(id, filename, size) {\n",
              "      if (!google.colab.kernel.accessAllowed) {\n",
              "        return;\n",
              "      }\n",
              "      const div = document.createElement('div');\n",
              "      const label = document.createElement('label');\n",
              "      label.textContent = `Downloading \"${filename}\": `;\n",
              "      div.appendChild(label);\n",
              "      const progress = document.createElement('progress');\n",
              "      progress.max = size;\n",
              "      div.appendChild(progress);\n",
              "      document.body.appendChild(div);\n",
              "\n",
              "      const buffers = [];\n",
              "      let downloaded = 0;\n",
              "\n",
              "      const channel = await google.colab.kernel.comms.open(id);\n",
              "      // Send a message to notify the kernel that we're ready.\n",
              "      channel.send({})\n",
              "\n",
              "      for await (const message of channel.messages) {\n",
              "        // Send a message to notify the kernel that we're ready.\n",
              "        channel.send({})\n",
              "        if (message.buffers) {\n",
              "          for (const buffer of message.buffers) {\n",
              "            buffers.push(buffer);\n",
              "            downloaded += buffer.byteLength;\n",
              "            progress.value = downloaded;\n",
              "          }\n",
              "        }\n",
              "      }\n",
              "      const blob = new Blob(buffers, {type: 'application/binary'});\n",
              "      const a = document.createElement('a');\n",
              "      a.href = window.URL.createObjectURL(blob);\n",
              "      a.download = filename;\n",
              "      div.appendChild(a);\n",
              "      a.click();\n",
              "      div.remove();\n",
              "    }\n",
              "  "
            ],
            "text/plain": [
              "<IPython.core.display.Javascript object>"
            ]
          },
          "metadata": {
            "tags": []
          }
        },
        {
          "output_type": "display_data",
          "data": {
            "application/javascript": [
              "download(\"download_a7147b1f-cd81-4132-af05-8328fb24edb1\", \"preds_testxgb.csv\", 26427)"
            ],
            "text/plain": [
              "<IPython.core.display.Javascript object>"
            ]
          },
          "metadata": {
            "tags": []
          }
        }
      ]
    }
  ]
}