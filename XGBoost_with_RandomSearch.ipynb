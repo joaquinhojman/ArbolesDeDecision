{
  "nbformat": 4,
  "nbformat_minor": 0,
  "metadata": {
    "colab": {
      "name": "XGBoost with RandomSearch.ipynb",
      "provenance": [],
      "authorship_tag": "ABX9TyOWBb8WtV5YvlM0l9CCVBqj",
      "include_colab_link": true
    },
    "kernelspec": {
      "name": "python3",
      "display_name": "Python 3"
    }
  },
  "cells": [
    {
      "cell_type": "markdown",
      "metadata": {
        "id": "view-in-github",
        "colab_type": "text"
      },
      "source": [
        "<a href=\"https://colab.research.google.com/github/joaquinhojman/XGBoost/blob/main/XGBoost_with_RandomSearch.ipynb\" target=\"_parent\"><img src=\"https://colab.research.google.com/assets/colab-badge.svg\" alt=\"Open In Colab\"/></a>"
      ]
    },
    {
      "cell_type": "code",
      "metadata": {
        "id": "VVFbEaNndiIR"
      },
      "source": [
        "\r\n",
        "import xgboost as xgb\r\n",
        "from sklearn.ensemble import RandomForestRegressor\r\n",
        "from sklearn.metrics import log_loss\r\n",
        "import pandas as pd\r\n",
        "import datetime as dt\r\n",
        "import numpy as np\r\n",
        "%matplotlib inline\r\n",
        "import matplotlib.pyplot as plt\r\n",
        "from sklearn import tree\r\n",
        "from sklearn.model_selection import train_test_split\r\n",
        "from sklearn.metrics import confusion_matrix\r\n",
        "from sklearn.metrics import accuracy_score\r\n",
        "from sklearn.metrics import classification_report\r\n",
        "from urllib.request import urlretrieve\r\n",
        "\r\n",
        "\r\n",
        "from sklearn.model_selection import train_test_split"
      ],
      "execution_count": 2,
      "outputs": []
    },
    {
      "cell_type": "code",
      "metadata": {
        "id": "oGdQR9Itd5Xj"
      },
      "source": [
        "url_train = 'https://raw.githubusercontent.com/SantiagoTadini/TP2-Datos/main/Features/data_train.csv'\r\n",
        "url_test = 'https://raw.githubusercontent.com/SantiagoTadini/TP2-Datos/main/Features/data_test.csv'\r\n",
        "\r\n",
        "data_train = pd.read_csv(url_train) #se usa para entrenar el modelo\r\n",
        "data_test = pd.read_csv(url_test) #se usa para predecir"
      ],
      "execution_count": 35,
      "outputs": []
    },
    {
      "cell_type": "code",
      "metadata": {
        "id": "G9UCGbAyd5am"
      },
      "source": [
        "#Separo el data frame de train en uno para entrenar y uno para probar.\r\n",
        "model_train, model_test = train_test_split(data_train, test_size=.2, random_state=1999)\r\n"
      ],
      "execution_count": 36,
      "outputs": []
    },
    {
      "cell_type": "code",
      "metadata": {
        "id": "SDf6A_Red5c7"
      },
      "source": [
        "# Supongo que el DataFrame con el que trabajo se llama 'data_train'\r\n",
        "# 'x' son los datos (todas las columnas menos el target), 'y' es el target\r\n",
        "x, y = data_train.iloc[:, :-1], data_train.iloc[:, -1]\r\n",
        "\r\n",
        "# 'x' son los datos --> x_train son los datos con los que entrenar\r\n",
        "#                   --> x_test son los datos con los que probar\r\n",
        "# 'y' es el target  --> y_train son las soluciones con las que comparar lo entrenado con x_train\r\n",
        "#                   --> y_test son las soluciones con las que comparar lo probado con x_test\r\n",
        "\r\n",
        "x_train, x_test, y_train, y_test = train_test_split(x, y, test_size=0.2, random_state=1999)\r\n",
        "\r\n",
        "#Esto lo hizo chechu y esta bien, no cambiar."
      ],
      "execution_count": 38,
      "outputs": []
    },
    {
      "cell_type": "code",
      "metadata": {
        "id": "8CvnSYhod5gD"
      },
      "source": [
        " xg_reg = xgb.XGBRegressor(colsample_bytree = 0.3, learning_rate = 0.1, max_depth = 6 , alpha = 10, n_estimators = 10, eta=0.2,nthread=2,objective='binary:logistic',booster='gbtree')\r\n",
        " xg_reg.fit(x_train, y_train)\r\n",
        " preds = xg_reg.predict(x_test)\r\n",
        "\r\n"
      ],
      "execution_count": 39,
      "outputs": []
    },
    {
      "cell_type": "code",
      "metadata": {
        "colab": {
          "base_uri": "https://localhost:8080/"
        },
        "id": "bCxliNWgeC-A",
        "outputId": "9e1a6675-ae78-4c04-beae-8685efbd5404"
      },
      "source": [
        "error = log_loss(model_test['Target'], preds)\r\n",
        "error"
      ],
      "execution_count": 40,
      "outputs": [
        {
          "output_type": "execute_result",
          "data": {
            "text/plain": [
              "0.43833679761235655"
            ]
          },
          "metadata": {
            "tags": []
          },
          "execution_count": 40
        }
      ]
    },
    {
      "cell_type": "code",
      "metadata": {
        "colab": {
          "base_uri": "https://localhost:8080/",
          "height": 358
        },
        "id": "0vkGI4ikeMwJ",
        "outputId": "9b3a58bd-5426-43af-c22f-83273dafac43"
      },
      "source": [
        "from sklearn.model_selection import RandomizedSearchCV\r\n",
        "\r\n",
        "\r\n",
        "loss = ['hinge', 'log', 'modified_huber', 'squared_hinge', 'perceptron']\r\n",
        "penalty = ['l1', 'l2', 'elasticnet']\r\n",
        "alpha = [0.0001, 0.001, 0.01, 0.1, 1, 10, 100, 1000]\r\n",
        "learning_rate = ['constant', 'optimal', 'invscaling', 'adaptive']\r\n",
        "class_weight = [{1:0.5, 0:0.5}, {1:0.4, 0:0.6}, {1:0.6, 0:0.4}, {1:0.7, 0:0.3}]\r\n",
        "eta0 = [1, 10, 100]\r\n",
        "\r\n",
        "param_distributions = dict(loss=loss,\r\n",
        "                           penalty=penalty,\r\n",
        "                           alpha=alpha,\r\n",
        "                           #learning_rate=learning_rate,\r\n",
        "                           class_weight=class_weight,\r\n",
        "                           eta0=eta0)\r\n",
        "\r\n",
        "random = RandomizedSearchCV(estimator=xg_reg,\r\n",
        "                            param_distributions=param_distributions,\r\n",
        "                            scoring='roc_auc',\r\n",
        "                            verbose=1, n_jobs=-1,\r\n",
        "                            n_iter=1000)\r\n",
        "random_result = random.fit(x_train, y_train)"
      ],
      "execution_count": 54,
      "outputs": [
        {
          "output_type": "error",
          "ename": "TypeError",
          "evalue": "ignored",
          "traceback": [
            "\u001b[0;31m---------------------------------------------------------------------------\u001b[0m",
            "\u001b[0;31mTypeError\u001b[0m                                 Traceback (most recent call last)",
            "\u001b[0;32m<ipython-input-54-68816055c356>\u001b[0m in \u001b[0;36m<module>\u001b[0;34m()\u001b[0m\n\u001b[1;32m     21\u001b[0m                             \u001b[0mverbose\u001b[0m\u001b[0;34m=\u001b[0m\u001b[0;36m1\u001b[0m\u001b[0;34m,\u001b[0m \u001b[0mn_jobs\u001b[0m\u001b[0;34m=\u001b[0m\u001b[0;34m-\u001b[0m\u001b[0;36m1\u001b[0m\u001b[0;34m,\u001b[0m\u001b[0;34m\u001b[0m\u001b[0;34m\u001b[0m\u001b[0m\n\u001b[1;32m     22\u001b[0m                             n_iter=1000)\n\u001b[0;32m---> 23\u001b[0;31m \u001b[0mrandom_result\u001b[0m \u001b[0;34m=\u001b[0m \u001b[0mrandom\u001b[0m\u001b[0;34m.\u001b[0m\u001b[0mfit\u001b[0m\u001b[0;34m(\u001b[0m\u001b[0mx_train\u001b[0m\u001b[0;34m,\u001b[0m \u001b[0my_train\u001b[0m\u001b[0;34m)\u001b[0m\u001b[0;34m\u001b[0m\u001b[0;34m\u001b[0m\u001b[0m\n\u001b[0m",
            "\u001b[0;32m/usr/local/lib/python3.6/dist-packages/sklearn/model_selection/_search.py\u001b[0m in \u001b[0;36mfit\u001b[0;34m(self, X, y, groups, **fit_params)\u001b[0m\n\u001b[1;32m    627\u001b[0m \u001b[0;34m\u001b[0m\u001b[0m\n\u001b[1;32m    628\u001b[0m         scorers, self.multimetric_ = _check_multimetric_scoring(\n\u001b[0;32m--> 629\u001b[0;31m             self.estimator, scoring=self.scoring)\n\u001b[0m\u001b[1;32m    630\u001b[0m \u001b[0;34m\u001b[0m\u001b[0m\n\u001b[1;32m    631\u001b[0m         \u001b[0;32mif\u001b[0m \u001b[0mself\u001b[0m\u001b[0;34m.\u001b[0m\u001b[0mmultimetric_\u001b[0m\u001b[0;34m:\u001b[0m\u001b[0;34m\u001b[0m\u001b[0;34m\u001b[0m\u001b[0m\n",
            "\u001b[0;32m/usr/local/lib/python3.6/dist-packages/sklearn/metrics/_scorer.py\u001b[0m in \u001b[0;36m_check_multimetric_scoring\u001b[0;34m(estimator, scoring)\u001b[0m\n\u001b[1;32m    471\u001b[0m     if callable(scoring) or scoring is None or isinstance(scoring,\n\u001b[1;32m    472\u001b[0m                                                           str):\n\u001b[0;32m--> 473\u001b[0;31m         \u001b[0mscorers\u001b[0m \u001b[0;34m=\u001b[0m \u001b[0;34m{\u001b[0m\u001b[0;34m\"score\"\u001b[0m\u001b[0;34m:\u001b[0m \u001b[0mcheck_scoring\u001b[0m\u001b[0;34m(\u001b[0m\u001b[0mestimator\u001b[0m\u001b[0;34m,\u001b[0m \u001b[0mscoring\u001b[0m\u001b[0;34m=\u001b[0m\u001b[0mscoring\u001b[0m\u001b[0;34m)\u001b[0m\u001b[0;34m}\u001b[0m\u001b[0;34m\u001b[0m\u001b[0;34m\u001b[0m\u001b[0m\n\u001b[0m\u001b[1;32m    474\u001b[0m         \u001b[0;32mreturn\u001b[0m \u001b[0mscorers\u001b[0m\u001b[0;34m,\u001b[0m \u001b[0;32mFalse\u001b[0m\u001b[0;34m\u001b[0m\u001b[0;34m\u001b[0m\u001b[0m\n\u001b[1;32m    475\u001b[0m     \u001b[0;32melse\u001b[0m\u001b[0;34m:\u001b[0m\u001b[0;34m\u001b[0m\u001b[0;34m\u001b[0m\u001b[0m\n",
            "\u001b[0;32m/usr/local/lib/python3.6/dist-packages/sklearn/metrics/_scorer.py\u001b[0m in \u001b[0;36mcheck_scoring\u001b[0;34m(estimator, scoring, allow_none)\u001b[0m\n\u001b[1;32m    399\u001b[0m     \u001b[0;32mif\u001b[0m \u001b[0;32mnot\u001b[0m \u001b[0mhasattr\u001b[0m\u001b[0;34m(\u001b[0m\u001b[0mestimator\u001b[0m\u001b[0;34m,\u001b[0m \u001b[0;34m'fit'\u001b[0m\u001b[0;34m)\u001b[0m\u001b[0;34m:\u001b[0m\u001b[0;34m\u001b[0m\u001b[0;34m\u001b[0m\u001b[0m\n\u001b[1;32m    400\u001b[0m         raise TypeError(\"estimator should be an estimator implementing \"\n\u001b[0;32m--> 401\u001b[0;31m                         \"'fit' method, %r was passed\" % estimator)\n\u001b[0m\u001b[1;32m    402\u001b[0m     \u001b[0;32mif\u001b[0m \u001b[0misinstance\u001b[0m\u001b[0;34m(\u001b[0m\u001b[0mscoring\u001b[0m\u001b[0;34m,\u001b[0m \u001b[0mstr\u001b[0m\u001b[0;34m)\u001b[0m\u001b[0;34m:\u001b[0m\u001b[0;34m\u001b[0m\u001b[0;34m\u001b[0m\u001b[0m\n\u001b[1;32m    403\u001b[0m         \u001b[0;32mreturn\u001b[0m \u001b[0mget_scorer\u001b[0m\u001b[0;34m(\u001b[0m\u001b[0mscoring\u001b[0m\u001b[0;34m)\u001b[0m\u001b[0;34m\u001b[0m\u001b[0;34m\u001b[0m\u001b[0m\n",
            "\u001b[0;31mTypeError\u001b[0m: estimator should be an estimator implementing 'fit' method, <module 'xgboost' from '/usr/local/lib/python3.6/dist-packages/xgboost/__init__.py'> was passed"
          ]
        }
      ]
    },
    {
      "cell_type": "code",
      "metadata": {
        "colab": {
          "base_uri": "https://localhost:8080/"
        },
        "id": "hodGmQu2ekg5",
        "outputId": "00e431f6-2928-403c-ad82-5d9fcc50c04c"
      },
      "source": [
        "pred_tunRS = random_result.predict(x_test)\r\n",
        "\r\n",
        "error = log_loss(y_test, pred_tunRS)\r\n",
        "error"
      ],
      "execution_count": 57,
      "outputs": [
        {
          "output_type": "execute_result",
          "data": {
            "text/plain": [
              "0.43219808435471835"
            ]
          },
          "metadata": {
            "tags": []
          },
          "execution_count": 57
        }
      ]
    },
    {
      "cell_type": "code",
      "metadata": {
        "id": "1EGi_1mUekuY"
      },
      "source": [
        "# Sacamos el y_test_de_practica_agrupado_por_opp\r\n",
        "oportunidades_test_de_practica = x_test['Opportunity_ID']\r\n",
        "oportunidades_test_de_practica = oportunidades_test_de_practica.to_frame()\r\n",
        "\r\n",
        "stage_test_de_practica = y_test.to_frame()\r\n",
        "\r\n",
        "oportunidades_test_de_practica['Target'] = stage_test_de_practica\r\n",
        "y_test_agrupado_por_opp = oportunidades_test_de_practica.groupby('Opportunity_ID').agg({'Target' : 'mean'})\r\n",
        "y_test_agrupado_por_opp = y_test_agrupado_por_opp.reset_index()"
      ],
      "execution_count": 58,
      "outputs": []
    },
    {
      "cell_type": "code",
      "metadata": {
        "id": "Od2zW0Qsek5U"
      },
      "source": [
        "# Sacamos el preds_agrupado_por_opp\r\n",
        "oportunidades_test_de_practica = x_test['Opportunity_ID']\r\n",
        "oportunidades_test_de_practica = oportunidades_test_de_practica.to_frame()\r\n",
        "\r\n",
        "oportunidades_test_de_practica['Target'] = pred_tunRS\r\n",
        "\r\n",
        "preds_agrupado_por_opp = oportunidades_test_de_practica.groupby('Opportunity_ID').agg({'Target' : 'mean'})\r\n",
        "preds_agrupado_por_opp = preds_agrupado_por_opp.reset_index()"
      ],
      "execution_count": 59,
      "outputs": []
    },
    {
      "cell_type": "code",
      "metadata": {
        "colab": {
          "base_uri": "https://localhost:8080/"
        },
        "id": "ho0AqyX9elBa",
        "outputId": "0569395c-a74b-488c-c78a-ea516ce6acc0"
      },
      "source": [
        "# Calculamos el error con groupby hecho\r\n",
        "error = log_loss(y_test_agrupado_por_opp['Target'], np.nan_to_num(preds_agrupado_por_opp['Target'].to_numpy()))\r\n",
        "error"
      ],
      "execution_count": 60,
      "outputs": [
        {
          "output_type": "execute_result",
          "data": {
            "text/plain": [
              "0.44845618459199593"
            ]
          },
          "metadata": {
            "tags": []
          },
          "execution_count": 60
        }
      ]
    },
    {
      "cell_type": "code",
      "metadata": {
        "colab": {
          "base_uri": "https://localhost:8080/"
        },
        "id": "KKGwLx1fjzhs",
        "outputId": "c10e82e6-aa16-4d34-aca9-6868b6eef2f9"
      },
      "source": [
        "preds_testRSDT = random_result.predict(data_test)\r\n",
        "preds_testRSDT"
      ],
      "execution_count": 61,
      "outputs": [
        {
          "output_type": "execute_result",
          "data": {
            "text/plain": [
              "array([0.58646226, 0.70122695, 0.6474215 , ..., 0.47620726, 0.4106129 ,\n",
              "       0.3124363 ], dtype=float32)"
            ]
          },
          "metadata": {
            "tags": []
          },
          "execution_count": 61
        }
      ]
    },
    {
      "cell_type": "code",
      "metadata": {
        "colab": {
          "base_uri": "https://localhost:8080/",
          "height": 419
        },
        "id": "6d66hUK_kBMJ",
        "outputId": "d5779944-5956-4784-9155-b9eae6bc3682"
      },
      "source": [
        "# Sacamos el preds_test_agrupado_por_opp\r\n",
        "url_test = 'https://raw.githubusercontent.com/SantiagoTadini/TP2-Datos/main/Features/data_test.csv'\r\n",
        "data_test = pd.read_csv(url_test) #se usa para predecir\r\n",
        "\r\n",
        "preds_testRSDT = random_result.predict(data_test)\r\n",
        "\r\n",
        "oportunidades_testGV = data_test['Opportunity_ID'].to_frame()\r\n",
        "\r\n",
        "oportunidades_testGV['Target'] = preds_testRSDT\r\n",
        "\r\n",
        "preds_test_agrupado_por_oppGV = oportunidades_testGV.groupby('Opportunity_ID').agg({'Target' : 'mean'})\r\n",
        "preds_test_agrupado_por_oppGV = preds_test_agrupado_por_oppGV.reset_index()\r\n",
        "\r\n",
        "preds_test_agrupado_por_oppGV"
      ],
      "execution_count": 63,
      "outputs": [
        {
          "output_type": "execute_result",
          "data": {
            "text/html": [
              "<div>\n",
              "<style scoped>\n",
              "    .dataframe tbody tr th:only-of-type {\n",
              "        vertical-align: middle;\n",
              "    }\n",
              "\n",
              "    .dataframe tbody tr th {\n",
              "        vertical-align: top;\n",
              "    }\n",
              "\n",
              "    .dataframe thead th {\n",
              "        text-align: right;\n",
              "    }\n",
              "</style>\n",
              "<table border=\"1\" class=\"dataframe\">\n",
              "  <thead>\n",
              "    <tr style=\"text-align: right;\">\n",
              "      <th></th>\n",
              "      <th>Opportunity_ID</th>\n",
              "      <th>Target</th>\n",
              "    </tr>\n",
              "  </thead>\n",
              "  <tbody>\n",
              "    <tr>\n",
              "      <th>0</th>\n",
              "      <td>10689</td>\n",
              "      <td>0.584612</td>\n",
              "    </tr>\n",
              "    <tr>\n",
              "      <th>1</th>\n",
              "      <td>10690</td>\n",
              "      <td>0.567522</td>\n",
              "    </tr>\n",
              "    <tr>\n",
              "      <th>2</th>\n",
              "      <td>10691</td>\n",
              "      <td>0.536654</td>\n",
              "    </tr>\n",
              "    <tr>\n",
              "      <th>3</th>\n",
              "      <td>10692</td>\n",
              "      <td>0.484819</td>\n",
              "    </tr>\n",
              "    <tr>\n",
              "      <th>4</th>\n",
              "      <td>10693</td>\n",
              "      <td>0.712068</td>\n",
              "    </tr>\n",
              "    <tr>\n",
              "      <th>...</th>\n",
              "      <td>...</td>\n",
              "      <td>...</td>\n",
              "    </tr>\n",
              "    <tr>\n",
              "      <th>1562</th>\n",
              "      <td>12364</td>\n",
              "      <td>0.675117</td>\n",
              "    </tr>\n",
              "    <tr>\n",
              "      <th>1563</th>\n",
              "      <td>12365</td>\n",
              "      <td>0.476207</td>\n",
              "    </tr>\n",
              "    <tr>\n",
              "      <th>1564</th>\n",
              "      <td>12366</td>\n",
              "      <td>0.410613</td>\n",
              "    </tr>\n",
              "    <tr>\n",
              "      <th>1565</th>\n",
              "      <td>12367</td>\n",
              "      <td>0.396612</td>\n",
              "    </tr>\n",
              "    <tr>\n",
              "      <th>1566</th>\n",
              "      <td>12368</td>\n",
              "      <td>0.312436</td>\n",
              "    </tr>\n",
              "  </tbody>\n",
              "</table>\n",
              "<p>1567 rows × 2 columns</p>\n",
              "</div>"
            ],
            "text/plain": [
              "      Opportunity_ID    Target\n",
              "0              10689  0.584612\n",
              "1              10690  0.567522\n",
              "2              10691  0.536654\n",
              "3              10692  0.484819\n",
              "4              10693  0.712068\n",
              "...              ...       ...\n",
              "1562           12364  0.675117\n",
              "1563           12365  0.476207\n",
              "1564           12366  0.410613\n",
              "1565           12367  0.396612\n",
              "1566           12368  0.312436\n",
              "\n",
              "[1567 rows x 2 columns]"
            ]
          },
          "metadata": {
            "tags": []
          },
          "execution_count": 63
        }
      ]
    },
    {
      "cell_type": "code",
      "metadata": {
        "id": "Fhj18PzokKCx"
      },
      "source": [
        "from google.colab import files\r\n",
        "\r\n",
        "preds_test_agrupado_por_oppGV.to_csv('preds_testgv.csv', index=False, header=True)\r\n",
        "files.download('preds_testgv.csv')"
      ],
      "execution_count": null,
      "outputs": []
    },
    {
      "cell_type": "code",
      "metadata": {
        "id": "PfNc87bhSjDi"
      },
      "source": [
        ""
      ],
      "execution_count": null,
      "outputs": []
    },
    {
      "cell_type": "code",
      "metadata": {
        "id": "vgQP3mmlSjHA"
      },
      "source": [
        ""
      ],
      "execution_count": null,
      "outputs": []
    }
  ]
}